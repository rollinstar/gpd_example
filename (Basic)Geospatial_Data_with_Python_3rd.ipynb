{
 "cells": [
  {
   "cell_type": "code",
   "execution_count": null,
   "metadata": {},
   "outputs": [],
   "source": [
    "# 라이브러리 추가하기\n",
    "import geopandas as gpd\n",
    "\n",
    "import matplotlib.pyplot as plt\n",
    "from mpl_toolkits.axes_grid1 import make_axes_locatable"
   ]
  },
  {
   "cell_type": "markdown",
   "metadata": {},
   "source": [
    "# GeoPandas로 지도시각화 하기"
   ]
  },
  {
   "cell_type": "code",
   "execution_count": null,
   "metadata": {},
   "outputs": [],
   "source": [
    "# 서울시 시군구 지도 데이터 불러오기\n",
    "seoul_sgg_pop = gpd.read_file('./maps/seoul_sgg_final.geojson')\n",
    "seoul_sgg_pop.head()"
   ]
  },
  {
   "cell_type": "code",
   "execution_count": null,
   "metadata": {},
   "outputs": [],
   "source": [
    "# 서울시 시군구 지도 데이터로 단계구분도(Chropleth Map) 시각화하기\n",
    "fig, ax = plt.subplots(1, 1)\n",
    "divider = make_axes_locatable(ax)\n",
    "cax = divider.append_axes(\"right\", size=\"5%\", pad=0.1)\n",
    "seoul_sgg_pop.plot(column='TOTAL_POP', ax=ax, legend=True, cax=cax, cmap='OrRd')"
   ]
  },
  {
   "cell_type": "code",
   "execution_count": null,
   "metadata": {},
   "outputs": [],
   "source": [
    "# 서울시 스타벅스 지도 데이터 불러오기\n",
    "seoul_starbucks = gpd.read_file('./maps/seoul_starbucks.geojson')\n",
    "seoul_starbucks.head()"
   ]
  },
  {
   "cell_type": "code",
   "execution_count": null,
   "metadata": {},
   "outputs": [],
   "source": [
    "# plot\n",
    "seoul_starbucks.plot()"
   ]
  },
  {
   "cell_type": "code",
   "execution_count": null,
   "metadata": {},
   "outputs": [],
   "source": [
    "# 서울시 시군구 레이어 + 스타벅스 레이어\n",
    "base_map = seoul_sgg_pop.plot(color='white', edgecolor='black')"
   ]
  },
  {
   "cell_type": "code",
   "execution_count": null,
   "metadata": {},
   "outputs": [],
   "source": [
    "# seoul_starbucks.plot(ax=base_map, marker='o', color='red', markersize=5)\n",
    "import platform\n",
    "from matplotlib import font_manager, rc\n",
    "if platform.system() == 'Windows':\n",
    "    font_path = \"c:/Windows/Fonts/malgun.ttf\"\n",
    "    font = font_manager.FontProperties(fname=font_path).get_name()\n",
    "    rc('font', family=font)\n",
    "# Mac OS\n",
    "elif platform.system() == 'Darwin':\n",
    "    rc('font', family='AppleGothic')\n",
    "\n",
    "\n",
    "%matplotlib inline\n",
    "\n",
    "base_map = seoul_sgg_pop.plot(color='white', edgecolor=\"k\")\n",
    "ax = seoul_starbucks.plot(ax=base_map, marker='o', color='red', markersize=5)\n",
    "ax.set_axis_off()\n",
    "ax.set_title(\"서울시 스타벅스 분포도\")\n",
    "plt.show()"
   ]
  },
  {
   "cell_type": "markdown",
   "metadata": {},
   "source": [
    "# Leaflet기반 지도 시각화하기"
   ]
  },
  {
   "cell_type": "code",
   "execution_count": null,
   "metadata": {},
   "outputs": [],
   "source": [
    "# ipyleaflet 설치하기\n",
    "# !pip install ipyleaflet\n",
    "# !jupyter nbextension enable --py --sys-prefix ipyleaflet  # can be skipped for notebook 5.3 and above"
   ]
  },
  {
   "cell_type": "code",
   "execution_count": null,
   "metadata": {},
   "outputs": [],
   "source": [
    "from ipyleaflet import Map, Marker, TileLayer, ImageOverlay, CircleMarker, GeoJSON, GeoData"
   ]
  },
  {
   "cell_type": "code",
   "execution_count": null,
   "metadata": {},
   "outputs": [],
   "source": [
    "center = [37.573050, 126.979189]\n",
    "m = Map(center=center, zoom=10)\n",
    "m"
   ]
  },
  {
   "cell_type": "code",
   "execution_count": null,
   "metadata": {
    "scrolled": true
   },
   "outputs": [],
   "source": [
    "style = {'color': 'green', 'fill_color':'red', 'opacity':1, 'weight':1, 'dashArray':'9', 'fillOpacity':0.5}\n",
    "geo_data = GeoData(geo_dataframe=seoul_sgg_pop, style=style)\n",
    "m.add_layer(geo_data)\n",
    "m\n",
    "# marker = Marker(location=center, draggable=False)"
   ]
  },
  {
   "cell_type": "code",
   "execution_count": null,
   "metadata": {},
   "outputs": [],
   "source": [
    "import json\n",
    "\n",
    "seoul_sgg_geo = json.load(open('./maps/seoul_sgg_final.geojson', encoding='utf-8'))\n",
    "\n",
    "for i in range(len(seoul_sgg_geo['features'])):\n",
    "    seoul_sgg_geo['features'][i]['id'] = seoul_sgg_geo['features'][0]['properties']['SIG_CD']"
   ]
  },
  {
   "cell_type": "code",
   "execution_count": null,
   "metadata": {},
   "outputs": [],
   "source": [
    "seoul_sgg_geo"
   ]
  },
  {
   "cell_type": "code",
   "execution_count": null,
   "metadata": {},
   "outputs": [],
   "source": [
    "# 시군구별 단계구분도 작성하기\n",
    "import ipyleaflet\n",
    "from branca.colormap import linear\n",
    "\n",
    "pop =  dict(zip(seoul_sgg_pop['SIG_CD'].tolist(), seoul_sgg_pop['TOTAL_POP'].tolist()))\n",
    "\n",
    "m = Map(center=center, zoom=10)\n",
    "layer = ipyleaflet.Choropleth(\n",
    "    geo_data=seoul_sgg_geo,\n",
    "    choro_data=pop,\n",
    "    colormap=linear.YlOrRd_04,\n",
    "    border_color='black',\n",
    "    style={'fillOpacity': 0.8, 'dashArray': '5, 5'})\n",
    "m.add_layer(layer)\n",
    "m"
   ]
  },
  {
   "cell_type": "code",
   "execution_count": null,
   "metadata": {},
   "outputs": [],
   "source": [
    "# Circle Marker\n",
    "m = Map(center=center, zoom=10)\n",
    "\n",
    "style = {'color': 'black', 'opacity':1, 'weight':1, 'fillOpacity':0}\n",
    "geo_data = GeoData(geo_dataframe=seoul_sgg_pop, style=style)\n",
    "m.add_layer(geo_data)\n",
    "\n",
    "centroid_list = seoul_sgg_pop['geometry'].centroid\n",
    "total_pop = seoul_sgg_pop['TOTAL_POP']\n",
    "\n",
    "for i in seoul_sgg_pop.index:\n",
    "    lonlat = centroid_list[i]\n",
    "    value = total_pop[i]\n",
    "    \n",
    "    circle_marker = CircleMarker()\n",
    "    circle_marker.location = (lonlat.y, lonlat.x)\n",
    "    circle_marker.radius = int(value / 100000)\n",
    "    circle_marker.weight = 1\n",
    "    circle_marker.fill_opacity=0.8\n",
    "    circle_marker.color = \"red\"\n",
    "    circle_marker.fill_color = \"yellow\"\n",
    "    \n",
    "    m.add_layer(circle_marker)\n",
    "\n",
    "m"
   ]
  },
  {
   "cell_type": "code",
   "execution_count": null,
   "metadata": {},
   "outputs": [],
   "source": []
  }
 ],
 "metadata": {
  "kernelspec": {
   "display_name": "Python 3",
   "language": "python",
   "name": "python3"
  },
  "language_info": {
   "codemirror_mode": {
    "name": "ipython",
    "version": 3
   },
   "file_extension": ".py",
   "mimetype": "text/x-python",
   "name": "python",
   "nbconvert_exporter": "python",
   "pygments_lexer": "ipython3",
   "version": "3.7.3"
  }
 },
 "nbformat": 4,
 "nbformat_minor": 2
}
