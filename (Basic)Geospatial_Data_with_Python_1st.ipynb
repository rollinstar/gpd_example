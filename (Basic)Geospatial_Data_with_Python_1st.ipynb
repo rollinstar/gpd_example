{
 "cells": [
  {
   "cell_type": "markdown",
   "metadata": {},
   "source": [
    "### 안내페이지\n",
    "#### https://www.notion.so/rollinstar/Python-cc8a370daf784bf9b084ca06a37c5a1e"
   ]
  },
  {
   "cell_type": "markdown",
   "metadata": {},
   "source": [
    "# GIS (Geographic Information System or Science)\n",
    "\n",
    "* 지리공간데이터를 생성/편집/저장/분석/시각화하기 위한 모든 Science\n",
    "\n",
    "#### Geographic\n",
    "* 지표상에 있는 모든 지리(地理)적 사상(Feature)\n",
    "\n",
    "#### Information\n",
    "* 디지털화된 데이터\n",
    "\n",
    "#### System / Science\n",
    "* 지리공간데이터를 처리하기 위한 모든 기법/방법"
   ]
  },
  {
   "cell_type": "markdown",
   "metadata": {},
   "source": [
    "# GeoPandas\n",
    "\n",
    "* `python`으로 지리공간데이터(Geospatial Data)를 다루기 위한 오픈소스 라이브러리\n",
    "* `pandas`를 확장한 라이브러리\n",
    "* `python`에는 다양한 지리공간데이터를 처리할 수 있는 라이브러리들이 존재 (ex:  `GDAL/OGR`, `shapely`, `fiona`, `descrates`)\n",
    "    * `GeoPandas`는 내부적으로 이런 라이브러리들을 내부적으로 활용하고 있다."
   ]
  },
  {
   "cell_type": "code",
   "execution_count": null,
   "metadata": {},
   "outputs": [],
   "source": [
    "# GeoPandas설치하기\n",
    "# !pip3 install shapely\n",
    "# !pip3 install geopandas"
   ]
  },
  {
   "cell_type": "markdown",
   "metadata": {},
   "source": [
    "#### Import library"
   ]
  },
  {
   "cell_type": "code",
   "execution_count": null,
   "metadata": {},
   "outputs": [],
   "source": [
    "# _01 라이브러리 추가하기\n",
    "import geopandas as gpd"
   ]
  },
  {
   "cell_type": "markdown",
   "metadata": {},
   "source": [
    "#### Reading data\n",
    "- `GeoPandas`는 vector 타입의 대부분 포맷 들을 읽을 수 있습니다.\n",
    "    - `shp`, `geojson`, `GML`, `KML`..."
   ]
  },
  {
   "cell_type": "code",
   "execution_count": null,
   "metadata": {},
   "outputs": [],
   "source": [
    "# _02 서울시 행정동 .shp파일\n",
    "_h_dong = './maps/seoul_h_dong/seoul_h_dong.shp'"
   ]
  },
  {
   "cell_type": "code",
   "execution_count": null,
   "metadata": {},
   "outputs": [],
   "source": [
    "# _03 지도 파일을 불러와 GeoDataFrame 생성하기\n",
    "seoul_h_dong_gdf = gpd.read_file(_h_dong)"
   ]
  },
  {
   "cell_type": "code",
   "execution_count": null,
   "metadata": {},
   "outputs": [],
   "source": [
    "# _04 데이터 확인하기\n",
    "seoul_h_dong_gdf.head(100)"
   ]
  },
  {
   "cell_type": "code",
   "execution_count": null,
   "metadata": {},
   "outputs": [],
   "source": [
    "# _05 Dataframe 개요정보 확인하기\n",
    "seoul_h_dong_gdf.info()"
   ]
  },
  {
   "cell_type": "code",
   "execution_count": null,
   "metadata": {},
   "outputs": [],
   "source": [
    "# _06 데이터 확인 요령 info() & head()를 동시에.... 취향대로\n",
    "seoul_h_dong_gdf.info()\n",
    "seoul_h_dong_gdf.head()"
   ]
  },
  {
   "cell_type": "code",
   "execution_count": null,
   "metadata": {},
   "outputs": [],
   "source": [
    "# _07 Dataframe 통계정보 확인하기\n",
    "seoul_h_dong_gdf.describe()"
   ]
  },
  {
   "cell_type": "code",
   "execution_count": null,
   "metadata": {},
   "outputs": [],
   "source": [
    "# _08 평균값 가져오기\n",
    "seoul_h_dong_gdf.TOTAL_POP.describe().mean()"
   ]
  },
  {
   "cell_type": "code",
   "execution_count": null,
   "metadata": {},
   "outputs": [],
   "source": [
    "# _09 Serise 데이터 가져오기\n",
    "# seoul_h_dong_gdf.DONG_NM\n",
    "seoul_h_dong_gdf['DONG_NM'][:10]"
   ]
  },
  {
   "cell_type": "markdown",
   "metadata": {},
   "source": [
    "#### GeoPandas Data Structure(데이터 구조)\n",
    "##### GeoDataFrame / Series / GeoSeries"
   ]
  },
  {
   "cell_type": "code",
   "execution_count": null,
   "metadata": {},
   "outputs": [],
   "source": [
    "# _10 GeoPandas 데이터구조 확인하기\n",
    "print(type(seoul_h_dong_gdf))\n",
    "print(type(seoul_h_dong_gdf['DONG_NM']))\n",
    "print(type(seoul_h_dong_gdf['geometry']))"
   ]
  },
  {
   "cell_type": "markdown",
   "metadata": {},
   "source": [
    "### GeoSeries 알아보기\n",
    "* Pandas의 Series + Geometry"
   ]
  },
  {
   "cell_type": "markdown",
   "metadata": {},
   "source": [
    "#### GeoSeries 속성(Attributes)\n",
    "* geom_type\n",
    "* area\n",
    "* bounds\n",
    "* total_bounds"
   ]
  },
  {
   "cell_type": "code",
   "execution_count": null,
   "metadata": {},
   "outputs": [],
   "source": [
    "# _11 geometry type 확인하기\n",
    "seoul_h_dong_gdf['geometry'].geom_type[:10]"
   ]
  },
  {
   "cell_type": "code",
   "execution_count": null,
   "metadata": {},
   "outputs": [],
   "source": [
    "# _12 Polygon 확인하기 \n",
    "seoul_h_dong_gdf['geometry'][0]"
   ]
  },
  {
   "cell_type": "code",
   "execution_count": null,
   "metadata": {},
   "outputs": [],
   "source": [
    "# _13 GeoSeries 면적 계산하기\n",
    "seoul_h_dong_gdf['geometry'].area[:5]"
   ]
  },
  {
   "cell_type": "code",
   "execution_count": null,
   "metadata": {},
   "outputs": [],
   "source": [
    "# _14 길이 확인하기\n",
    "seoul_h_dong_gdf['geometry'].length[:5]"
   ]
  },
  {
   "cell_type": "code",
   "execution_count": null,
   "metadata": {},
   "outputs": [],
   "source": [
    "# _15 좌표체계 확인하기\n",
    "# seoul_h_dong_gdf.crs = {'init': 'epsg:4326'}\n",
    "seoul_h_dong_gdf.crs"
   ]
  },
  {
   "cell_type": "code",
   "execution_count": null,
   "metadata": {},
   "outputs": [],
   "source": [
    "# _16 GeoSeries bbox가져오기\n",
    "seoul_h_dong_gdf['geometry'].bounds[:5]"
   ]
  },
  {
   "cell_type": "code",
   "execution_count": null,
   "metadata": {},
   "outputs": [],
   "source": [
    "# _17 지도 전체 bbox가져오기\n",
    "seoul_h_dong_gdf['geometry'].total_bounds"
   ]
  },
  {
   "cell_type": "markdown",
   "metadata": {},
   "source": [
    "##### GeoSeries Method\n",
    "* centroid\n",
    "* distance()\n",
    "* representative_point()\n",
    "* plot()"
   ]
  },
  {
   "cell_type": "code",
   "execution_count": null,
   "metadata": {},
   "outputs": [],
   "source": [
    "# _18 폴리곤 중심점 \n",
    "seoul_h_dong_gdf['geometry'].centroid[:5]"
   ]
  },
  {
   "cell_type": "code",
   "execution_count": null,
   "metadata": {},
   "outputs": [],
   "source": [
    "# _19 폴리곤 내 Point \n",
    "seoul_h_dong_gdf['geometry'].representative_point()[:5]"
   ]
  },
  {
   "cell_type": "code",
   "execution_count": null,
   "metadata": {},
   "outputs": [],
   "source": [
    "# _20 두점 거리 계산하기\n",
    "start_point = seoul_h_dong_gdf['geometry'].centroid[0]\n",
    "end_point = seoul_h_dong_gdf['geometry'].centroid[1]\n",
    "\n",
    "start_point.distance(end_point)"
   ]
  },
  {
   "cell_type": "markdown",
   "metadata": {},
   "source": [
    "### GeoDataFrame 알아보기"
   ]
  },
  {
   "cell_type": "markdown",
   "metadata": {},
   "source": [
    "##### GeoDataFrame Method"
   ]
  },
  {
   "cell_type": "code",
   "execution_count": null,
   "metadata": {},
   "outputs": [],
   "source": [
    "# !pip3 install descartes"
   ]
  },
  {
   "cell_type": "code",
   "execution_count": null,
   "metadata": {},
   "outputs": [],
   "source": [
    "# _21 지도 그리기\n",
    "%matplotlib inline\n",
    "seoul_h_dong_gdf.plot()"
   ]
  },
  {
   "cell_type": "code",
   "execution_count": null,
   "metadata": {},
   "outputs": [],
   "source": [
    "# _22 현재 위치정보(좌표)가 저장된 GeoSeries명 확인하기 - gemetry name확인\n",
    "seoul_h_dong_gdf.geometry.name"
   ]
  },
  {
   "cell_type": "code",
   "execution_count": null,
   "metadata": {},
   "outputs": [],
   "source": [
    "# _23 컬럼명 변경하기\n",
    "seoul_h_dong_gdf = seoul_h_dong_gdf.rename(columns={'geometry': 'geom'})"
   ]
  },
  {
   "cell_type": "code",
   "execution_count": null,
   "metadata": {},
   "outputs": [],
   "source": [
    "# _24 GeoDataFrame의 gemetry 확인하기\n",
    "seoul_h_dong_gdf.geometry.name"
   ]
  },
  {
   "cell_type": "code",
   "execution_count": null,
   "metadata": {},
   "outputs": [],
   "source": [
    "# _25 GeoDataFrame에 geometry 등록하기\n",
    "seoul_h_dong_gdf = seoul_h_dong_gdf.set_geometry('geom')\n",
    "seoul_h_dong_gdf.geometry.name"
   ]
  },
  {
   "cell_type": "code",
   "execution_count": null,
   "metadata": {},
   "outputs": [],
   "source": [
    "# _26 GeoDataFrame의 새로운 컬럼에 폴리곤 중심점 값을 할당하기\n",
    "seoul_h_dong_gdf['centoroid'] = seoul_h_dong_gdf.centroid\n",
    "seoul_h_dong_gdf.head()"
   ]
  },
  {
   "cell_type": "code",
   "execution_count": null,
   "metadata": {},
   "outputs": [],
   "source": [
    "# _27 해당 Dataframe의 geometry컬럼 변경하기\n",
    "seoul_h_dong_gdf = seoul_h_dong_gdf.set_geometry('centoroid')\n",
    "seoul_h_dong_gdf.geometry.name"
   ]
  },
  {
   "cell_type": "code",
   "execution_count": null,
   "metadata": {},
   "outputs": [],
   "source": [
    "# _28 plot\n",
    "seoul_h_dong_gdf.plot()"
   ]
  },
  {
   "cell_type": "code",
   "execution_count": null,
   "metadata": {},
   "outputs": [],
   "source": [
    "print(type(seoul_h_dong_gdf['geom']))\n",
    "print(type(seoul_h_dong_gdf['centoroid']))"
   ]
  },
  {
   "cell_type": "markdown",
   "metadata": {},
   "source": [
    "##  Writing data"
   ]
  },
  {
   "cell_type": "code",
   "execution_count": null,
   "metadata": {},
   "outputs": [],
   "source": [
    "# 폴더생성\n",
    "!mkdir ./maps/output"
   ]
  },
  {
   "cell_type": "code",
   "execution_count": null,
   "metadata": {},
   "outputs": [],
   "source": [
    "# _29 shp파일 저장하기 (에러발생)\n",
    "seoul_h_dong_gdf.to_file('./maps/output/seoul_h_dong', encoding='utf-8')"
   ]
  },
  {
   "cell_type": "code",
   "execution_count": null,
   "metadata": {},
   "outputs": [],
   "source": [
    "# _30 불필요한 컬럼 제거하기\n",
    "# 파일 저장 시 GeoDataFrame에는 좌표정보가 반드시 하나만 있어야 한다.\n",
    "columns = ['SGG_NM', 'DONG_NM','SGG_CODE', 'H_CODE', 'SEDAE', 'SEDAE_INGU', 'TOTAL_POP', 'MALE_POP', 'FEMALE_POP', '65_OVER','geom']\n",
    "gdf = gpd.GeoDataFrame(seoul_h_dong_gdf[columns], geometry='geom')\n",
    "gdf.head()"
   ]
  },
  {
   "cell_type": "code",
   "execution_count": null,
   "metadata": {},
   "outputs": [],
   "source": [
    "# _31 Dataframe 타입 확인\n",
    "type(gdf)"
   ]
  },
  {
   "cell_type": "code",
   "execution_count": null,
   "metadata": {},
   "outputs": [],
   "source": [
    "# _32 shp파일로 저장하기\n",
    "gdf.to_file('./maps/output/seoul_h_dong', encoding='utf-8')"
   ]
  },
  {
   "cell_type": "code",
   "execution_count": null,
   "metadata": {},
   "outputs": [],
   "source": [
    "# _33 geojson으로 저장하기\n",
    "gdf.to_file('./maps/output/seoul_h_dong.geojson', driver='GeoJSON')"
   ]
  },
  {
   "cell_type": "code",
   "execution_count": null,
   "metadata": {},
   "outputs": [],
   "source": []
  }
 ],
 "metadata": {
  "kernelspec": {
   "display_name": "Python 3",
   "language": "python",
   "name": "python3"
  },
  "language_info": {
   "codemirror_mode": {
    "name": "ipython",
    "version": 3
   },
   "file_extension": ".py",
   "mimetype": "text/x-python",
   "name": "python",
   "nbconvert_exporter": "python",
   "pygments_lexer": "ipython3",
   "version": "3.7.3"
  }
 },
 "nbformat": 4,
 "nbformat_minor": 2
}
