{
 "cells": [
  {
   "cell_type": "markdown",
   "metadata": {},
   "source": [
    "### 안내페이지\n",
    "#### https://www.notion.so/rollinstar/Python-cc8a370daf784bf9b084ca06a37c5a1e"
   ]
  },
  {
   "cell_type": "markdown",
   "metadata": {},
   "source": [
    "# GIS (Geographic Information System or Science)\n",
    "\n",
    "* 지리공간데이터를 생성/편집/저장/분석/시각화하기 위한 모든 Science\n",
    "\n",
    "#### Geographic\n",
    "* 지표상에 있는 모든 지리(地理)적 사상(Feature)\n",
    "\n",
    "#### Information\n",
    "* 디지털화된 데이터\n",
    "\n",
    "#### System / Science\n",
    "* 지리공간데이터를 처리하기 위한 모든 기법/방법"
   ]
  },
  {
   "cell_type": "markdown",
   "metadata": {},
   "source": [
    "# GeoPandas\n",
    "\n",
    "* `python`으로 지리공간데이터(Geospatial Data)를 다루기 위한 오픈소스 라이브러리\n",
    "* `pandas`를 확장한 라이브러리\n",
    "* `python`에는 다양한 지리공간데이터를 처리할 수 있는 라이브러리들이 존재 (ex:  `GDAL/OGR`, `shapely`, `fiona`, `descrates`)\n",
    "    * `GeoPandas`는 내부적으로 이런 라이브러리들을 내부적으로 활용하고 있다."
   ]
  },
  {
   "cell_type": "code",
   "execution_count": 1,
   "metadata": {},
   "outputs": [],
   "source": [
    "# GeoPandas설치하기\n",
    "# !pip3 install shapely\n",
    "# !pip3 install geopandas"
   ]
  },
  {
   "cell_type": "markdown",
   "metadata": {},
   "source": [
    "#### Import library"
   ]
  },
  {
   "cell_type": "code",
   "execution_count": 2,
   "metadata": {},
   "outputs": [],
   "source": [
    "# _01 라이브러리 추가하기\n",
    "import geopandas as gpd"
   ]
  },
  {
   "cell_type": "markdown",
   "metadata": {},
   "source": [
    "#### Reading data\n",
    "- `GeoPandas`는 vector 타입의 대부분 포맷 들을 읽을 수 있습니다.\n",
    "    - `shp`, `geojson`, `GML`, `KML`..."
   ]
  },
  {
   "cell_type": "code",
   "execution_count": 3,
   "metadata": {},
   "outputs": [],
   "source": [
    "# _02 서울시 행정동 .shp파일\n",
    "_h_dong = './maps/seoul_h_dong/seoul_h_dong.shp'"
   ]
  },
  {
   "cell_type": "code",
   "execution_count": 4,
   "metadata": {},
   "outputs": [],
   "source": [
    "# _03 지도 파일을 불러와 GeoDataFrame 생성하기\n",
    "seoul_h_dong_gdf = gpd.read_file(_h_dong)"
   ]
  },
  {
   "cell_type": "code",
   "execution_count": 6,
   "metadata": {},
   "outputs": [
    {
     "data": {
      "text/html": [
       "<div>\n",
       "<style scoped>\n",
       "    .dataframe tbody tr th:only-of-type {\n",
       "        vertical-align: middle;\n",
       "    }\n",
       "\n",
       "    .dataframe tbody tr th {\n",
       "        vertical-align: top;\n",
       "    }\n",
       "\n",
       "    .dataframe thead th {\n",
       "        text-align: right;\n",
       "    }\n",
       "</style>\n",
       "<table border=\"1\" class=\"dataframe\">\n",
       "  <thead>\n",
       "    <tr style=\"text-align: right;\">\n",
       "      <th></th>\n",
       "      <th>SGG_NM</th>\n",
       "      <th>DONG_NM</th>\n",
       "      <th>SGG_CODE</th>\n",
       "      <th>H_CODE</th>\n",
       "      <th>SEDAE</th>\n",
       "      <th>SEDAE_INGU</th>\n",
       "      <th>TOTAL_POP</th>\n",
       "      <th>MALE_POP</th>\n",
       "      <th>FEMALE_POP</th>\n",
       "      <th>65_OVER</th>\n",
       "      <th>geometry</th>\n",
       "    </tr>\n",
       "  </thead>\n",
       "  <tbody>\n",
       "    <tr>\n",
       "      <th>0</th>\n",
       "      <td>종로구</td>\n",
       "      <td>사직동</td>\n",
       "      <td>11110</td>\n",
       "      <td>1111000</td>\n",
       "      <td>4414</td>\n",
       "      <td>2.14</td>\n",
       "      <td>9717</td>\n",
       "      <td>4467</td>\n",
       "      <td>5250</td>\n",
       "      <td>1708</td>\n",
       "      <td>POLYGON ((126.9768888427482 37.57565077944879,...</td>\n",
       "    </tr>\n",
       "    <tr>\n",
       "      <th>1</th>\n",
       "      <td>종로구</td>\n",
       "      <td>삼청동</td>\n",
       "      <td>11110</td>\n",
       "      <td>1111000</td>\n",
       "      <td>1414</td>\n",
       "      <td>2.06</td>\n",
       "      <td>3097</td>\n",
       "      <td>1459</td>\n",
       "      <td>1638</td>\n",
       "      <td>634</td>\n",
       "      <td>POLYGON ((126.982689386493 37.5950655194224, 1...</td>\n",
       "    </tr>\n",
       "    <tr>\n",
       "      <th>2</th>\n",
       "      <td>종로구</td>\n",
       "      <td>부암동</td>\n",
       "      <td>11110</td>\n",
       "      <td>1111000</td>\n",
       "      <td>4325</td>\n",
       "      <td>2.39</td>\n",
       "      <td>10726</td>\n",
       "      <td>5160</td>\n",
       "      <td>5566</td>\n",
       "      <td>1748</td>\n",
       "      <td>POLYGON ((126.9758511377569 37.59656422224408,...</td>\n",
       "    </tr>\n",
       "    <tr>\n",
       "      <th>3</th>\n",
       "      <td>종로구</td>\n",
       "      <td>평창동</td>\n",
       "      <td>11110</td>\n",
       "      <td>1111000</td>\n",
       "      <td>7510</td>\n",
       "      <td>2.53</td>\n",
       "      <td>19163</td>\n",
       "      <td>9032</td>\n",
       "      <td>10131</td>\n",
       "      <td>3037</td>\n",
       "      <td>POLYGON ((126.9750746678809 37.63138628651299,...</td>\n",
       "    </tr>\n",
       "    <tr>\n",
       "      <th>4</th>\n",
       "      <td>종로구</td>\n",
       "      <td>무악동</td>\n",
       "      <td>11110</td>\n",
       "      <td>1111000</td>\n",
       "      <td>3024</td>\n",
       "      <td>2.75</td>\n",
       "      <td>8375</td>\n",
       "      <td>3921</td>\n",
       "      <td>4454</td>\n",
       "      <td>1279</td>\n",
       "      <td>POLYGON ((126.960673532739 37.58079784202972, ...</td>\n",
       "    </tr>\n",
       "    <tr>\n",
       "      <th>5</th>\n",
       "      <td>종로구</td>\n",
       "      <td>교남동</td>\n",
       "      <td>11110</td>\n",
       "      <td>1111000</td>\n",
       "      <td>4379</td>\n",
       "      <td>2.34</td>\n",
       "      <td>10363</td>\n",
       "      <td>4850</td>\n",
       "      <td>5513</td>\n",
       "      <td>1406</td>\n",
       "      <td>POLYGON ((126.9690483700185 37.56819441770833,...</td>\n",
       "    </tr>\n",
       "    <tr>\n",
       "      <th>6</th>\n",
       "      <td>종로구</td>\n",
       "      <td>가회동</td>\n",
       "      <td>11110</td>\n",
       "      <td>1111000</td>\n",
       "      <td>2085</td>\n",
       "      <td>2.17</td>\n",
       "      <td>4657</td>\n",
       "      <td>2194</td>\n",
       "      <td>2463</td>\n",
       "      <td>900</td>\n",
       "      <td>POLYGON ((126.9891359030894 37.59130668631862,...</td>\n",
       "    </tr>\n",
       "    <tr>\n",
       "      <th>7</th>\n",
       "      <td>종로구</td>\n",
       "      <td>종로1.2.3.4가동</td>\n",
       "      <td>11110</td>\n",
       "      <td>1111000</td>\n",
       "      <td>5378</td>\n",
       "      <td>1.41</td>\n",
       "      <td>8592</td>\n",
       "      <td>5045</td>\n",
       "      <td>3547</td>\n",
       "      <td>1865</td>\n",
       "      <td>POLYGON ((126.9964997845193 37.5810225677299, ...</td>\n",
       "    </tr>\n",
       "    <tr>\n",
       "      <th>8</th>\n",
       "      <td>종로구</td>\n",
       "      <td>종로5·6가동</td>\n",
       "      <td>11110</td>\n",
       "      <td>1111000</td>\n",
       "      <td>3174</td>\n",
       "      <td>1.69</td>\n",
       "      <td>5690</td>\n",
       "      <td>3096</td>\n",
       "      <td>2594</td>\n",
       "      <td>1089</td>\n",
       "      <td>POLYGON ((127.0101604483956 37.57156810157083,...</td>\n",
       "    </tr>\n",
       "    <tr>\n",
       "      <th>9</th>\n",
       "      <td>종로구</td>\n",
       "      <td>이화동</td>\n",
       "      <td>11110</td>\n",
       "      <td>1111000</td>\n",
       "      <td>4462</td>\n",
       "      <td>1.85</td>\n",
       "      <td>8752</td>\n",
       "      <td>4075</td>\n",
       "      <td>4677</td>\n",
       "      <td>1302</td>\n",
       "      <td>POLYGON ((127.0073325396313 37.58320333921623,...</td>\n",
       "    </tr>\n",
       "  </tbody>\n",
       "</table>\n",
       "</div>"
      ],
      "text/plain": [
       "  SGG_NM      DONG_NM SGG_CODE   H_CODE  SEDAE  SEDAE_INGU  TOTAL_POP  \\\n",
       "0    종로구          사직동    11110  1111000   4414        2.14       9717   \n",
       "1    종로구          삼청동    11110  1111000   1414        2.06       3097   \n",
       "2    종로구          부암동    11110  1111000   4325        2.39      10726   \n",
       "3    종로구          평창동    11110  1111000   7510        2.53      19163   \n",
       "4    종로구          무악동    11110  1111000   3024        2.75       8375   \n",
       "5    종로구          교남동    11110  1111000   4379        2.34      10363   \n",
       "6    종로구          가회동    11110  1111000   2085        2.17       4657   \n",
       "7    종로구  종로1.2.3.4가동    11110  1111000   5378        1.41       8592   \n",
       "8    종로구      종로5·6가동    11110  1111000   3174        1.69       5690   \n",
       "9    종로구          이화동    11110  1111000   4462        1.85       8752   \n",
       "\n",
       "   MALE_POP  FEMALE_POP  65_OVER  \\\n",
       "0      4467        5250     1708   \n",
       "1      1459        1638      634   \n",
       "2      5160        5566     1748   \n",
       "3      9032       10131     3037   \n",
       "4      3921        4454     1279   \n",
       "5      4850        5513     1406   \n",
       "6      2194        2463      900   \n",
       "7      5045        3547     1865   \n",
       "8      3096        2594     1089   \n",
       "9      4075        4677     1302   \n",
       "\n",
       "                                            geometry  \n",
       "0  POLYGON ((126.9768888427482 37.57565077944879,...  \n",
       "1  POLYGON ((126.982689386493 37.5950655194224, 1...  \n",
       "2  POLYGON ((126.9758511377569 37.59656422224408,...  \n",
       "3  POLYGON ((126.9750746678809 37.63138628651299,...  \n",
       "4  POLYGON ((126.960673532739 37.58079784202972, ...  \n",
       "5  POLYGON ((126.9690483700185 37.56819441770833,...  \n",
       "6  POLYGON ((126.9891359030894 37.59130668631862,...  \n",
       "7  POLYGON ((126.9964997845193 37.5810225677299, ...  \n",
       "8  POLYGON ((127.0101604483956 37.57156810157083,...  \n",
       "9  POLYGON ((127.0073325396313 37.58320333921623,...  "
      ]
     },
     "execution_count": 6,
     "metadata": {},
     "output_type": "execute_result"
    }
   ],
   "source": [
    "# _04 데이터 확인하기\n",
    "seoul_h_dong_gdf.head(10)"
   ]
  },
  {
   "cell_type": "code",
   "execution_count": 7,
   "metadata": {},
   "outputs": [
    {
     "name": "stdout",
     "output_type": "stream",
     "text": [
      "<class 'geopandas.geodataframe.GeoDataFrame'>\n",
      "RangeIndex: 424 entries, 0 to 423\n",
      "Data columns (total 11 columns):\n",
      "SGG_NM        424 non-null object\n",
      "DONG_NM       424 non-null object\n",
      "SGG_CODE      424 non-null object\n",
      "H_CODE        424 non-null object\n",
      "SEDAE         424 non-null int64\n",
      "SEDAE_INGU    424 non-null float64\n",
      "TOTAL_POP     424 non-null int64\n",
      "MALE_POP      424 non-null int64\n",
      "FEMALE_POP    424 non-null int64\n",
      "65_OVER       424 non-null int64\n",
      "geometry      424 non-null object\n",
      "dtypes: float64(1), int64(5), object(5)\n",
      "memory usage: 36.5+ KB\n"
     ]
    }
   ],
   "source": [
    "# _05 Dataframe 개요정보 확인하기\n",
    "seoul_h_dong_gdf.info()"
   ]
  },
  {
   "cell_type": "code",
   "execution_count": 8,
   "metadata": {},
   "outputs": [
    {
     "name": "stdout",
     "output_type": "stream",
     "text": [
      "<class 'geopandas.geodataframe.GeoDataFrame'>\n",
      "RangeIndex: 424 entries, 0 to 423\n",
      "Data columns (total 11 columns):\n",
      "SGG_NM        424 non-null object\n",
      "DONG_NM       424 non-null object\n",
      "SGG_CODE      424 non-null object\n",
      "H_CODE        424 non-null object\n",
      "SEDAE         424 non-null int64\n",
      "SEDAE_INGU    424 non-null float64\n",
      "TOTAL_POP     424 non-null int64\n",
      "MALE_POP      424 non-null int64\n",
      "FEMALE_POP    424 non-null int64\n",
      "65_OVER       424 non-null int64\n",
      "geometry      424 non-null object\n",
      "dtypes: float64(1), int64(5), object(5)\n",
      "memory usage: 36.5+ KB\n"
     ]
    },
    {
     "data": {
      "text/html": [
       "<div>\n",
       "<style scoped>\n",
       "    .dataframe tbody tr th:only-of-type {\n",
       "        vertical-align: middle;\n",
       "    }\n",
       "\n",
       "    .dataframe tbody tr th {\n",
       "        vertical-align: top;\n",
       "    }\n",
       "\n",
       "    .dataframe thead th {\n",
       "        text-align: right;\n",
       "    }\n",
       "</style>\n",
       "<table border=\"1\" class=\"dataframe\">\n",
       "  <thead>\n",
       "    <tr style=\"text-align: right;\">\n",
       "      <th></th>\n",
       "      <th>SGG_NM</th>\n",
       "      <th>DONG_NM</th>\n",
       "      <th>SGG_CODE</th>\n",
       "      <th>H_CODE</th>\n",
       "      <th>SEDAE</th>\n",
       "      <th>SEDAE_INGU</th>\n",
       "      <th>TOTAL_POP</th>\n",
       "      <th>MALE_POP</th>\n",
       "      <th>FEMALE_POP</th>\n",
       "      <th>65_OVER</th>\n",
       "      <th>geometry</th>\n",
       "    </tr>\n",
       "  </thead>\n",
       "  <tbody>\n",
       "    <tr>\n",
       "      <th>0</th>\n",
       "      <td>종로구</td>\n",
       "      <td>사직동</td>\n",
       "      <td>11110</td>\n",
       "      <td>1111000</td>\n",
       "      <td>4414</td>\n",
       "      <td>2.14</td>\n",
       "      <td>9717</td>\n",
       "      <td>4467</td>\n",
       "      <td>5250</td>\n",
       "      <td>1708</td>\n",
       "      <td>POLYGON ((126.9768888427482 37.57565077944879,...</td>\n",
       "    </tr>\n",
       "    <tr>\n",
       "      <th>1</th>\n",
       "      <td>종로구</td>\n",
       "      <td>삼청동</td>\n",
       "      <td>11110</td>\n",
       "      <td>1111000</td>\n",
       "      <td>1414</td>\n",
       "      <td>2.06</td>\n",
       "      <td>3097</td>\n",
       "      <td>1459</td>\n",
       "      <td>1638</td>\n",
       "      <td>634</td>\n",
       "      <td>POLYGON ((126.982689386493 37.5950655194224, 1...</td>\n",
       "    </tr>\n",
       "    <tr>\n",
       "      <th>2</th>\n",
       "      <td>종로구</td>\n",
       "      <td>부암동</td>\n",
       "      <td>11110</td>\n",
       "      <td>1111000</td>\n",
       "      <td>4325</td>\n",
       "      <td>2.39</td>\n",
       "      <td>10726</td>\n",
       "      <td>5160</td>\n",
       "      <td>5566</td>\n",
       "      <td>1748</td>\n",
       "      <td>POLYGON ((126.9758511377569 37.59656422224408,...</td>\n",
       "    </tr>\n",
       "    <tr>\n",
       "      <th>3</th>\n",
       "      <td>종로구</td>\n",
       "      <td>평창동</td>\n",
       "      <td>11110</td>\n",
       "      <td>1111000</td>\n",
       "      <td>7510</td>\n",
       "      <td>2.53</td>\n",
       "      <td>19163</td>\n",
       "      <td>9032</td>\n",
       "      <td>10131</td>\n",
       "      <td>3037</td>\n",
       "      <td>POLYGON ((126.9750746678809 37.63138628651299,...</td>\n",
       "    </tr>\n",
       "    <tr>\n",
       "      <th>4</th>\n",
       "      <td>종로구</td>\n",
       "      <td>무악동</td>\n",
       "      <td>11110</td>\n",
       "      <td>1111000</td>\n",
       "      <td>3024</td>\n",
       "      <td>2.75</td>\n",
       "      <td>8375</td>\n",
       "      <td>3921</td>\n",
       "      <td>4454</td>\n",
       "      <td>1279</td>\n",
       "      <td>POLYGON ((126.960673532739 37.58079784202972, ...</td>\n",
       "    </tr>\n",
       "  </tbody>\n",
       "</table>\n",
       "</div>"
      ],
      "text/plain": [
       "  SGG_NM DONG_NM SGG_CODE   H_CODE  SEDAE  SEDAE_INGU  TOTAL_POP  MALE_POP  \\\n",
       "0    종로구     사직동    11110  1111000   4414        2.14       9717      4467   \n",
       "1    종로구     삼청동    11110  1111000   1414        2.06       3097      1459   \n",
       "2    종로구     부암동    11110  1111000   4325        2.39      10726      5160   \n",
       "3    종로구     평창동    11110  1111000   7510        2.53      19163      9032   \n",
       "4    종로구     무악동    11110  1111000   3024        2.75       8375      3921   \n",
       "\n",
       "   FEMALE_POP  65_OVER                                           geometry  \n",
       "0        5250     1708  POLYGON ((126.9768888427482 37.57565077944879,...  \n",
       "1        1638      634  POLYGON ((126.982689386493 37.5950655194224, 1...  \n",
       "2        5566     1748  POLYGON ((126.9758511377569 37.59656422224408,...  \n",
       "3       10131     3037  POLYGON ((126.9750746678809 37.63138628651299,...  \n",
       "4        4454     1279  POLYGON ((126.960673532739 37.58079784202972, ...  "
      ]
     },
     "execution_count": 8,
     "metadata": {},
     "output_type": "execute_result"
    }
   ],
   "source": [
    "# _06 데이터 확인 요령 info() & head()를 동시에.... 취향대로\n",
    "seoul_h_dong_gdf.info()\n",
    "seoul_h_dong_gdf.head()"
   ]
  },
  {
   "cell_type": "code",
   "execution_count": 9,
   "metadata": {},
   "outputs": [
    {
     "data": {
      "text/html": [
       "<div>\n",
       "<style scoped>\n",
       "    .dataframe tbody tr th:only-of-type {\n",
       "        vertical-align: middle;\n",
       "    }\n",
       "\n",
       "    .dataframe tbody tr th {\n",
       "        vertical-align: top;\n",
       "    }\n",
       "\n",
       "    .dataframe thead th {\n",
       "        text-align: right;\n",
       "    }\n",
       "</style>\n",
       "<table border=\"1\" class=\"dataframe\">\n",
       "  <thead>\n",
       "    <tr style=\"text-align: right;\">\n",
       "      <th></th>\n",
       "      <th>SEDAE</th>\n",
       "      <th>SEDAE_INGU</th>\n",
       "      <th>TOTAL_POP</th>\n",
       "      <th>MALE_POP</th>\n",
       "      <th>FEMALE_POP</th>\n",
       "      <th>65_OVER</th>\n",
       "    </tr>\n",
       "  </thead>\n",
       "  <tbody>\n",
       "    <tr>\n",
       "      <th>count</th>\n",
       "      <td>424.000000</td>\n",
       "      <td>424.000000</td>\n",
       "      <td>424.000000</td>\n",
       "      <td>424.000000</td>\n",
       "      <td>424.000000</td>\n",
       "      <td>424.000000</td>\n",
       "    </tr>\n",
       "    <tr>\n",
       "      <th>mean</th>\n",
       "      <td>9953.023585</td>\n",
       "      <td>2.338137</td>\n",
       "      <td>23878.724057</td>\n",
       "      <td>11693.058962</td>\n",
       "      <td>12185.665094</td>\n",
       "      <td>3219.636792</td>\n",
       "    </tr>\n",
       "    <tr>\n",
       "      <th>std</th>\n",
       "      <td>3889.031075</td>\n",
       "      <td>0.348433</td>\n",
       "      <td>9431.363644</td>\n",
       "      <td>4594.843032</td>\n",
       "      <td>4866.509822</td>\n",
       "      <td>1279.225377</td>\n",
       "    </tr>\n",
       "    <tr>\n",
       "      <th>min</th>\n",
       "      <td>365.000000</td>\n",
       "      <td>1.350000</td>\n",
       "      <td>905.000000</td>\n",
       "      <td>450.000000</td>\n",
       "      <td>455.000000</td>\n",
       "      <td>114.000000</td>\n",
       "    </tr>\n",
       "    <tr>\n",
       "      <th>25%</th>\n",
       "      <td>7358.250000</td>\n",
       "      <td>2.127500</td>\n",
       "      <td>17607.250000</td>\n",
       "      <td>8669.750000</td>\n",
       "      <td>9028.500000</td>\n",
       "      <td>2340.750000</td>\n",
       "    </tr>\n",
       "    <tr>\n",
       "      <th>50%</th>\n",
       "      <td>9723.000000</td>\n",
       "      <td>2.330000</td>\n",
       "      <td>23178.000000</td>\n",
       "      <td>11361.500000</td>\n",
       "      <td>11732.500000</td>\n",
       "      <td>3107.000000</td>\n",
       "    </tr>\n",
       "    <tr>\n",
       "      <th>75%</th>\n",
       "      <td>12395.000000</td>\n",
       "      <td>2.542500</td>\n",
       "      <td>29671.000000</td>\n",
       "      <td>14559.000000</td>\n",
       "      <td>14998.000000</td>\n",
       "      <td>3965.500000</td>\n",
       "    </tr>\n",
       "    <tr>\n",
       "      <th>max</th>\n",
       "      <td>25214.000000</td>\n",
       "      <td>3.420000</td>\n",
       "      <td>55569.000000</td>\n",
       "      <td>26975.000000</td>\n",
       "      <td>29079.000000</td>\n",
       "      <td>7244.000000</td>\n",
       "    </tr>\n",
       "  </tbody>\n",
       "</table>\n",
       "</div>"
      ],
      "text/plain": [
       "              SEDAE  SEDAE_INGU     TOTAL_POP      MALE_POP    FEMALE_POP  \\\n",
       "count    424.000000  424.000000    424.000000    424.000000    424.000000   \n",
       "mean    9953.023585    2.338137  23878.724057  11693.058962  12185.665094   \n",
       "std     3889.031075    0.348433   9431.363644   4594.843032   4866.509822   \n",
       "min      365.000000    1.350000    905.000000    450.000000    455.000000   \n",
       "25%     7358.250000    2.127500  17607.250000   8669.750000   9028.500000   \n",
       "50%     9723.000000    2.330000  23178.000000  11361.500000  11732.500000   \n",
       "75%    12395.000000    2.542500  29671.000000  14559.000000  14998.000000   \n",
       "max    25214.000000    3.420000  55569.000000  26975.000000  29079.000000   \n",
       "\n",
       "           65_OVER  \n",
       "count   424.000000  \n",
       "mean   3219.636792  \n",
       "std    1279.225377  \n",
       "min     114.000000  \n",
       "25%    2340.750000  \n",
       "50%    3107.000000  \n",
       "75%    3965.500000  \n",
       "max    7244.000000  "
      ]
     },
     "execution_count": 9,
     "metadata": {},
     "output_type": "execute_result"
    }
   ],
   "source": [
    "# _07 Dataframe 통계정보 확인하기\n",
    "seoul_h_dong_gdf.describe()"
   ]
  },
  {
   "cell_type": "code",
   "execution_count": 12,
   "metadata": {},
   "outputs": [
    {
     "data": {
      "text/plain": [
       "23878.724056603773"
      ]
     },
     "execution_count": 12,
     "metadata": {},
     "output_type": "execute_result"
    }
   ],
   "source": [
    "# _08 평균값 가져오기\n",
    "seoul_h_dong_gdf.TOTAL_POP.mean()"
   ]
  },
  {
   "cell_type": "code",
   "execution_count": 13,
   "metadata": {},
   "outputs": [
    {
     "data": {
      "text/plain": [
       "0            사직동\n",
       "1            삼청동\n",
       "2            부암동\n",
       "3            평창동\n",
       "4            무악동\n",
       "5            교남동\n",
       "6            가회동\n",
       "7    종로1.2.3.4가동\n",
       "8        종로5·6가동\n",
       "9            이화동\n",
       "Name: DONG_NM, dtype: object"
      ]
     },
     "execution_count": 13,
     "metadata": {},
     "output_type": "execute_result"
    }
   ],
   "source": [
    "# _09 Serise 데이터 가져오기\n",
    "# seoul_h_dong_gdf.DONG_NM\n",
    "seoul_h_dong_gdf['DONG_NM'][:10]"
   ]
  },
  {
   "cell_type": "markdown",
   "metadata": {},
   "source": [
    "#### GeoPandas Data Structure(데이터 구조)\n",
    "##### GeoDataFrame / Series / GeoSeries"
   ]
  },
  {
   "cell_type": "code",
   "execution_count": 14,
   "metadata": {},
   "outputs": [
    {
     "name": "stdout",
     "output_type": "stream",
     "text": [
      "<class 'geopandas.geodataframe.GeoDataFrame'>\n",
      "<class 'pandas.core.series.Series'>\n",
      "<class 'geopandas.geoseries.GeoSeries'>\n"
     ]
    }
   ],
   "source": [
    "# _10 GeoPandas 데이터구조 확인하기\n",
    "print(type(seoul_h_dong_gdf))\n",
    "print(type(seoul_h_dong_gdf['DONG_NM']))\n",
    "print(type(seoul_h_dong_gdf['geometry']))"
   ]
  },
  {
   "cell_type": "markdown",
   "metadata": {},
   "source": [
    "### GeoSeries 알아보기\n",
    "* Pandas의 Series + Geometry"
   ]
  },
  {
   "cell_type": "markdown",
   "metadata": {},
   "source": [
    "#### GeoSeries 속성(Attributes)\n",
    "* geom_type\n",
    "* area\n",
    "* bounds\n",
    "* total_bounds"
   ]
  },
  {
   "cell_type": "code",
   "execution_count": 15,
   "metadata": {},
   "outputs": [
    {
     "data": {
      "text/plain": [
       "0    Polygon\n",
       "1    Polygon\n",
       "2    Polygon\n",
       "3    Polygon\n",
       "4    Polygon\n",
       "5    Polygon\n",
       "6    Polygon\n",
       "7    Polygon\n",
       "8    Polygon\n",
       "9    Polygon\n",
       "dtype: object"
      ]
     },
     "execution_count": 15,
     "metadata": {},
     "output_type": "execute_result"
    }
   ],
   "source": [
    "# _11 geometry type 확인하기\n",
    "seoul_h_dong_gdf['geometry'].geom_type[:10]"
   ]
  },
  {
   "cell_type": "code",
   "execution_count": 16,
   "metadata": {},
   "outputs": [
    {
     "data": {
      "image/svg+xml": [
       "<svg xmlns=\"http://www.w3.org/2000/svg\" xmlns:xlink=\"http://www.w3.org/1999/xlink\" width=\"100.0\" height=\"100.0\" viewBox=\"126.96224144693643 37.56762545417213 0.015362015477265345 0.01254504648855459\" preserveAspectRatio=\"xMinYMin meet\"><g transform=\"matrix(1,0,0,-1,0,75.14779595483282)\"><path fill-rule=\"evenodd\" fill=\"#66cc99\" stroke=\"#555555\" stroke-width=\"0.0003072403095453069\" opacity=\"0.6\" d=\"M 126.97688884274817,37.575650779448786 L 126.9770344988775,37.569194530054546 L 126.97597472821249,37.569336299425764 L 126.97537470991254,37.56931556702156 L 126.97433193562325,37.56926180051753 L 126.96904837001854,37.56819441770833 L 126.96854493603384,37.56842767961276 L 126.9666499598212,37.569491655206576 L 126.96628175024485,37.5697007347987 L 126.9660973270804,37.5698565097237 L 126.96572852922577,37.570183936115114 L 126.96592699822128,37.5703188056862 L 126.96601094018429,37.57154839557748 L 126.96365922052196,37.575174660660366 L 126.9630860043451,37.57648592001554 L 126.96284099051198,37.57666158609274 L 126.96281041047263,37.57944880965677 L 126.96742431584332,37.57960153712449 L 126.96742176302651,37.579263521441646 L 126.9674300601846,37.57919257799861 L 126.9674570900956,37.578975250585444 L 126.96806604699626,37.57824678046787 L 126.96895511695477,37.57793526234029 L 126.96921284296906,37.57793529930939 L 126.96941453886579,37.57812112414218 L 126.9696644266947,37.57853113668221 L 126.96966721914872,37.57873620513492 L 126.96966877353309,37.57899287900988 L 126.96966949910363,37.5791125267496 L 126.96990457361626,37.57930175362873 L 126.97135197544759,37.57951327793981 L 126.97381925784454,37.57937214030263 L 126.97391736338342,37.57848707304101 L 126.97393961998088,37.57824042997809 L 126.97433153835757,37.57574990629986 L 126.97580378997804,37.5756494688242 L 126.97688884274817,37.575650779448786 z\" /></g></svg>"
      ],
      "text/plain": [
       "<shapely.geometry.polygon.Polygon at 0x119425588>"
      ]
     },
     "execution_count": 16,
     "metadata": {},
     "output_type": "execute_result"
    }
   ],
   "source": [
    "# _12 Polygon 확인하기 \n",
    "seoul_h_dong_gdf['geometry'][0]"
   ]
  },
  {
   "cell_type": "code",
   "execution_count": 17,
   "metadata": {},
   "outputs": [
    {
     "data": {
      "text/plain": [
       "0    0.000119\n",
       "1    0.000139\n",
       "2    0.000225\n",
       "3    0.000920\n",
       "4    0.000048\n",
       "dtype: float64"
      ]
     },
     "execution_count": 17,
     "metadata": {},
     "output_type": "execute_result"
    }
   ],
   "source": [
    "# _13 GeoSeries 면적 계산하기\n",
    "seoul_h_dong_gdf['geometry'].area[:5]"
   ]
  },
  {
   "cell_type": "code",
   "execution_count": 18,
   "metadata": {},
   "outputs": [
    {
     "data": {
      "text/plain": [
       "0    0.047948\n",
       "1    0.063533\n",
       "2    0.081741\n",
       "3    0.135755\n",
       "4    0.028105\n",
       "dtype: float64"
      ]
     },
     "execution_count": 18,
     "metadata": {},
     "output_type": "execute_result"
    }
   ],
   "source": [
    "# _14 길이 확인하기\n",
    "seoul_h_dong_gdf['geometry'].length[:5]"
   ]
  },
  {
   "cell_type": "code",
   "execution_count": 19,
   "metadata": {},
   "outputs": [
    {
     "data": {
      "text/plain": [
       "{}"
      ]
     },
     "execution_count": 19,
     "metadata": {},
     "output_type": "execute_result"
    }
   ],
   "source": [
    "# _15 좌표체계 확인하기\n",
    "# seoul_h_dong_gdf.crs = {'init': 'epsg:4326'}\n",
    "seoul_h_dong_gdf.crs"
   ]
  },
  {
   "cell_type": "code",
   "execution_count": 20,
   "metadata": {},
   "outputs": [
    {
     "data": {
      "text/html": [
       "<div>\n",
       "<style scoped>\n",
       "    .dataframe tbody tr th:only-of-type {\n",
       "        vertical-align: middle;\n",
       "    }\n",
       "\n",
       "    .dataframe tbody tr th {\n",
       "        vertical-align: top;\n",
       "    }\n",
       "\n",
       "    .dataframe thead th {\n",
       "        text-align: right;\n",
       "    }\n",
       "</style>\n",
       "<table border=\"1\" class=\"dataframe\">\n",
       "  <thead>\n",
       "    <tr style=\"text-align: right;\">\n",
       "      <th></th>\n",
       "      <th>minx</th>\n",
       "      <th>miny</th>\n",
       "      <th>maxx</th>\n",
       "      <th>maxy</th>\n",
       "    </tr>\n",
       "  </thead>\n",
       "  <tbody>\n",
       "    <tr>\n",
       "      <th>0</th>\n",
       "      <td>126.962810</td>\n",
       "      <td>37.568194</td>\n",
       "      <td>126.977034</td>\n",
       "      <td>37.579602</td>\n",
       "    </tr>\n",
       "    <tr>\n",
       "      <th>1</th>\n",
       "      <td>126.973587</td>\n",
       "      <td>37.575526</td>\n",
       "      <td>126.989476</td>\n",
       "      <td>37.596564</td>\n",
       "    </tr>\n",
       "    <tr>\n",
       "      <th>2</th>\n",
       "      <td>126.952749</td>\n",
       "      <td>37.583811</td>\n",
       "      <td>126.975851</td>\n",
       "      <td>37.607059</td>\n",
       "    </tr>\n",
       "    <tr>\n",
       "      <th>3</th>\n",
       "      <td>126.949983</td>\n",
       "      <td>37.595065</td>\n",
       "      <td>126.987741</td>\n",
       "      <td>37.632285</td>\n",
       "    </tr>\n",
       "    <tr>\n",
       "      <th>4</th>\n",
       "      <td>126.953556</td>\n",
       "      <td>37.572961</td>\n",
       "      <td>126.962841</td>\n",
       "      <td>37.581697</td>\n",
       "    </tr>\n",
       "  </tbody>\n",
       "</table>\n",
       "</div>"
      ],
      "text/plain": [
       "         minx       miny        maxx       maxy\n",
       "0  126.962810  37.568194  126.977034  37.579602\n",
       "1  126.973587  37.575526  126.989476  37.596564\n",
       "2  126.952749  37.583811  126.975851  37.607059\n",
       "3  126.949983  37.595065  126.987741  37.632285\n",
       "4  126.953556  37.572961  126.962841  37.581697"
      ]
     },
     "execution_count": 20,
     "metadata": {},
     "output_type": "execute_result"
    }
   ],
   "source": [
    "# _16 GeoSeries bbox가져오기\n",
    "seoul_h_dong_gdf['geometry'].bounds[:5]"
   ]
  },
  {
   "cell_type": "code",
   "execution_count": 21,
   "metadata": {},
   "outputs": [
    {
     "data": {
      "text/plain": [
       "array([126.7642783,  37.4290107, 127.1835519,  37.7010799])"
      ]
     },
     "execution_count": 21,
     "metadata": {},
     "output_type": "execute_result"
    }
   ],
   "source": [
    "# _17 지도 전체 bbox가져오기\n",
    "seoul_h_dong_gdf['geometry'].total_bounds"
   ]
  },
  {
   "cell_type": "markdown",
   "metadata": {},
   "source": [
    "##### GeoSeries Method\n",
    "* centroid\n",
    "* distance()\n",
    "* representative_point()\n",
    "* plot()"
   ]
  },
  {
   "cell_type": "code",
   "execution_count": 22,
   "metadata": {},
   "outputs": [
    {
     "data": {
      "text/plain": [
       "0    POINT (126.9701436944192 37.57410804599586)\n",
       "1    POINT (126.9811137153512 37.58801343786098)\n",
       "2    POINT (126.9625567482273 37.59669865828479)\n",
       "3    POINT (126.9692740196906 37.61396501050034)\n",
       "4    POINT (126.9589890500936 37.57774075208369)\n",
       "dtype: object"
      ]
     },
     "execution_count": 22,
     "metadata": {},
     "output_type": "execute_result"
    }
   ],
   "source": [
    "# _18 폴리곤 중심점 \n",
    "seoul_h_dong_gdf['geometry'].centroid[:5]"
   ]
  },
  {
   "cell_type": "code",
   "execution_count": 23,
   "metadata": {},
   "outputs": [
    {
     "data": {
      "text/plain": [
       "0    POINT (126.9708877848629 37.57336152811892)\n",
       "1    POINT (126.9823127095117 37.58602306022296)\n",
       "2     POINT (126.965653814739 37.59531371629697)\n",
       "3    POINT (126.9688245695375 37.61411788210462)\n",
       "4      POINT (126.9588444380414 37.577576151164)\n",
       "dtype: object"
      ]
     },
     "execution_count": 23,
     "metadata": {},
     "output_type": "execute_result"
    }
   ],
   "source": [
    "# _19 폴리곤 내 Point \n",
    "seoul_h_dong_gdf['geometry'].representative_point()[:5]"
   ]
  },
  {
   "cell_type": "code",
   "execution_count": 24,
   "metadata": {},
   "outputs": [
    {
     "data": {
      "text/plain": [
       "0.01771161432990806"
      ]
     },
     "execution_count": 24,
     "metadata": {},
     "output_type": "execute_result"
    }
   ],
   "source": [
    "# _20 두점 거리 계산하기\n",
    "start_point = seoul_h_dong_gdf['geometry'].centroid[0]\n",
    "end_point = seoul_h_dong_gdf['geometry'].centroid[1]\n",
    "\n",
    "start_point.distance(end_point)"
   ]
  },
  {
   "cell_type": "markdown",
   "metadata": {},
   "source": [
    "### GeoDataFrame 알아보기"
   ]
  },
  {
   "cell_type": "markdown",
   "metadata": {},
   "source": [
    "##### GeoDataFrame Method"
   ]
  },
  {
   "cell_type": "code",
   "execution_count": 25,
   "metadata": {},
   "outputs": [],
   "source": [
    "# !pip3 install descartes"
   ]
  },
  {
   "cell_type": "code",
   "execution_count": 26,
   "metadata": {},
   "outputs": [
    {
     "data": {
      "text/plain": [
       "<matplotlib.axes._subplots.AxesSubplot at 0x119c6abe0>"
      ]
     },
     "execution_count": 26,
     "metadata": {},
     "output_type": "execute_result"
    },
    {
     "data": {
      "image/png": "[encoded data removed]",
      "text/plain": [
       "<Figure size 432x288 with 1 Axes>"
      ]
     },
     "metadata": {
      "needs_background": "light"
     },
     "output_type": "display_data"
    }
   ],
   "source": [
    "# _21 지도 그리기\n",
    "%matplotlib inline\n",
    "seoul_h_dong_gdf.plot()"
   ]
  },
  {
   "cell_type": "code",
   "execution_count": 27,
   "metadata": {},
   "outputs": [
    {
     "data": {
      "text/plain": [
       "'geometry'"
      ]
     },
     "execution_count": 27,
     "metadata": {},
     "output_type": "execute_result"
    }
   ],
   "source": [
    "# _22 현재 위치정보(좌표)가 저장된 GeoSeries명 확인하기 - gemetry name확인\n",
    "seoul_h_dong_gdf.geometry.name"
   ]
  },
  {
   "cell_type": "code",
   "execution_count": 28,
   "metadata": {},
   "outputs": [],
   "source": [
    "# _23 컬럼명 변경하기\n",
    "seoul_h_dong_gdf = seoul_h_dong_gdf.rename(columns={'geometry': 'geom'})"
   ]
  },
  {
   "cell_type": "code",
   "execution_count": 29,
   "metadata": {},
   "outputs": [
    {
     "ename": "AttributeError",
     "evalue": "No geometry data set yet (expected in column 'geometry'.",
     "output_type": "error",
     "traceback": [
      "\u001b[0;31m---------------------------------------------------------------------------\u001b[0m",
      "\u001b[0;31mAttributeError\u001b[0m                            Traceback (most recent call last)",
      "\u001b[0;32m<ipython-input-29-4602871ffc82>\u001b[0m in \u001b[0;36m<module>\u001b[0;34m\u001b[0m\n\u001b[1;32m      1\u001b[0m \u001b[0;31m# _24 GeoDataFrame의 gemetry 확인하기\u001b[0m\u001b[0;34m\u001b[0m\u001b[0;34m\u001b[0m\u001b[0;34m\u001b[0m\u001b[0m\n\u001b[0;32m----> 2\u001b[0;31m \u001b[0mseoul_h_dong_gdf\u001b[0m\u001b[0;34m.\u001b[0m\u001b[0mgeometry\u001b[0m\u001b[0;34m.\u001b[0m\u001b[0mname\u001b[0m\u001b[0;34m\u001b[0m\u001b[0;34m\u001b[0m\u001b[0m\n\u001b[0m",
      "\u001b[0;32m/usr/local/lib/python3.7/site-packages/pandas/core/generic.py\u001b[0m in \u001b[0;36m__getattr__\u001b[0;34m(self, name)\u001b[0m\n\u001b[1;32m   5065\u001b[0m             \u001b[0;32mif\u001b[0m \u001b[0mself\u001b[0m\u001b[0;34m.\u001b[0m\u001b[0m_info_axis\u001b[0m\u001b[0;34m.\u001b[0m\u001b[0m_can_hold_identifiers_and_holds_name\u001b[0m\u001b[0;34m(\u001b[0m\u001b[0mname\u001b[0m\u001b[0;34m)\u001b[0m\u001b[0;34m:\u001b[0m\u001b[0;34m\u001b[0m\u001b[0;34m\u001b[0m\u001b[0m\n\u001b[1;32m   5066\u001b[0m                 \u001b[0;32mreturn\u001b[0m \u001b[0mself\u001b[0m\u001b[0;34m[\u001b[0m\u001b[0mname\u001b[0m\u001b[0;34m]\u001b[0m\u001b[0;34m\u001b[0m\u001b[0;34m\u001b[0m\u001b[0m\n\u001b[0;32m-> 5067\u001b[0;31m             \u001b[0;32mreturn\u001b[0m \u001b[0mobject\u001b[0m\u001b[0;34m.\u001b[0m\u001b[0m__getattribute__\u001b[0m\u001b[0;34m(\u001b[0m\u001b[0mself\u001b[0m\u001b[0;34m,\u001b[0m \u001b[0mname\u001b[0m\u001b[0;34m)\u001b[0m\u001b[0;34m\u001b[0m\u001b[0;34m\u001b[0m\u001b[0m\n\u001b[0m\u001b[1;32m   5068\u001b[0m \u001b[0;34m\u001b[0m\u001b[0m\n\u001b[1;32m   5069\u001b[0m     \u001b[0;32mdef\u001b[0m \u001b[0m__setattr__\u001b[0m\u001b[0;34m(\u001b[0m\u001b[0mself\u001b[0m\u001b[0;34m,\u001b[0m \u001b[0mname\u001b[0m\u001b[0;34m,\u001b[0m \u001b[0mvalue\u001b[0m\u001b[0;34m)\u001b[0m\u001b[0;34m:\u001b[0m\u001b[0;34m\u001b[0m\u001b[0;34m\u001b[0m\u001b[0m\n",
      "\u001b[0;32m/usr/local/lib/python3.7/site-packages/geopandas/geodataframe.py\u001b[0m in \u001b[0;36m_get_geometry\u001b[0;34m(self)\u001b[0m\n\u001b[1;32m     68\u001b[0m         \u001b[0;32mif\u001b[0m \u001b[0mself\u001b[0m\u001b[0;34m.\u001b[0m\u001b[0m_geometry_column_name\u001b[0m \u001b[0;32mnot\u001b[0m \u001b[0;32min\u001b[0m \u001b[0mself\u001b[0m\u001b[0;34m:\u001b[0m\u001b[0;34m\u001b[0m\u001b[0;34m\u001b[0m\u001b[0m\n\u001b[1;32m     69\u001b[0m             raise AttributeError(\"No geometry data set yet (expected in\"\n\u001b[0;32m---> 70\u001b[0;31m                                  \" column '%s'.\" % self._geometry_column_name)\n\u001b[0m\u001b[1;32m     71\u001b[0m         \u001b[0;32mreturn\u001b[0m \u001b[0mself\u001b[0m\u001b[0;34m[\u001b[0m\u001b[0mself\u001b[0m\u001b[0;34m.\u001b[0m\u001b[0m_geometry_column_name\u001b[0m\u001b[0;34m]\u001b[0m\u001b[0;34m\u001b[0m\u001b[0;34m\u001b[0m\u001b[0m\n\u001b[1;32m     72\u001b[0m \u001b[0;34m\u001b[0m\u001b[0m\n",
      "\u001b[0;31mAttributeError\u001b[0m: No geometry data set yet (expected in column 'geometry'."
     ]
    }
   ],
   "source": [
    "# _24 GeoDataFrame의 gemetry 확인하기\n",
    "seoul_h_dong_gdf.geometry.name"
   ]
  },
  {
   "cell_type": "code",
   "execution_count": 30,
   "metadata": {},
   "outputs": [
    {
     "data": {
      "text/plain": [
       "'geom'"
      ]
     },
     "execution_count": 30,
     "metadata": {},
     "output_type": "execute_result"
    }
   ],
   "source": [
    "# _25 GeoDataFrame에 geometry 등록하기\n",
    "seoul_h_dong_gdf = seoul_h_dong_gdf.set_geometry('geom')\n",
    "seoul_h_dong_gdf.geometry.name"
   ]
  },
  {
   "cell_type": "code",
   "execution_count": 31,
   "metadata": {},
   "outputs": [
    {
     "data": {
      "text/html": [
       "<div>\n",
       "<style scoped>\n",
       "    .dataframe tbody tr th:only-of-type {\n",
       "        vertical-align: middle;\n",
       "    }\n",
       "\n",
       "    .dataframe tbody tr th {\n",
       "        vertical-align: top;\n",
       "    }\n",
       "\n",
       "    .dataframe thead th {\n",
       "        text-align: right;\n",
       "    }\n",
       "</style>\n",
       "<table border=\"1\" class=\"dataframe\">\n",
       "  <thead>\n",
       "    <tr style=\"text-align: right;\">\n",
       "      <th></th>\n",
       "      <th>SGG_NM</th>\n",
       "      <th>DONG_NM</th>\n",
       "      <th>SGG_CODE</th>\n",
       "      <th>H_CODE</th>\n",
       "      <th>SEDAE</th>\n",
       "      <th>SEDAE_INGU</th>\n",
       "      <th>TOTAL_POP</th>\n",
       "      <th>MALE_POP</th>\n",
       "      <th>FEMALE_POP</th>\n",
       "      <th>65_OVER</th>\n",
       "      <th>geom</th>\n",
       "      <th>centoroid</th>\n",
       "    </tr>\n",
       "  </thead>\n",
       "  <tbody>\n",
       "    <tr>\n",
       "      <th>0</th>\n",
       "      <td>종로구</td>\n",
       "      <td>사직동</td>\n",
       "      <td>11110</td>\n",
       "      <td>1111000</td>\n",
       "      <td>4414</td>\n",
       "      <td>2.14</td>\n",
       "      <td>9717</td>\n",
       "      <td>4467</td>\n",
       "      <td>5250</td>\n",
       "      <td>1708</td>\n",
       "      <td>POLYGON ((126.9768888427482 37.57565077944879,...</td>\n",
       "      <td>POINT (126.9701436944192 37.57410804599586)</td>\n",
       "    </tr>\n",
       "    <tr>\n",
       "      <th>1</th>\n",
       "      <td>종로구</td>\n",
       "      <td>삼청동</td>\n",
       "      <td>11110</td>\n",
       "      <td>1111000</td>\n",
       "      <td>1414</td>\n",
       "      <td>2.06</td>\n",
       "      <td>3097</td>\n",
       "      <td>1459</td>\n",
       "      <td>1638</td>\n",
       "      <td>634</td>\n",
       "      <td>POLYGON ((126.982689386493 37.5950655194224, 1...</td>\n",
       "      <td>POINT (126.9811137153512 37.58801343786098)</td>\n",
       "    </tr>\n",
       "    <tr>\n",
       "      <th>2</th>\n",
       "      <td>종로구</td>\n",
       "      <td>부암동</td>\n",
       "      <td>11110</td>\n",
       "      <td>1111000</td>\n",
       "      <td>4325</td>\n",
       "      <td>2.39</td>\n",
       "      <td>10726</td>\n",
       "      <td>5160</td>\n",
       "      <td>5566</td>\n",
       "      <td>1748</td>\n",
       "      <td>POLYGON ((126.9758511377569 37.59656422224408,...</td>\n",
       "      <td>POINT (126.9625567482273 37.59669865828479)</td>\n",
       "    </tr>\n",
       "    <tr>\n",
       "      <th>3</th>\n",
       "      <td>종로구</td>\n",
       "      <td>평창동</td>\n",
       "      <td>11110</td>\n",
       "      <td>1111000</td>\n",
       "      <td>7510</td>\n",
       "      <td>2.53</td>\n",
       "      <td>19163</td>\n",
       "      <td>9032</td>\n",
       "      <td>10131</td>\n",
       "      <td>3037</td>\n",
       "      <td>POLYGON ((126.9750746678809 37.63138628651299,...</td>\n",
       "      <td>POINT (126.9692740196906 37.61396501050034)</td>\n",
       "    </tr>\n",
       "    <tr>\n",
       "      <th>4</th>\n",
       "      <td>종로구</td>\n",
       "      <td>무악동</td>\n",
       "      <td>11110</td>\n",
       "      <td>1111000</td>\n",
       "      <td>3024</td>\n",
       "      <td>2.75</td>\n",
       "      <td>8375</td>\n",
       "      <td>3921</td>\n",
       "      <td>4454</td>\n",
       "      <td>1279</td>\n",
       "      <td>POLYGON ((126.960673532739 37.58079784202972, ...</td>\n",
       "      <td>POINT (126.9589890500936 37.57774075208369)</td>\n",
       "    </tr>\n",
       "  </tbody>\n",
       "</table>\n",
       "</div>"
      ],
      "text/plain": [
       "  SGG_NM DONG_NM SGG_CODE   H_CODE  SEDAE  SEDAE_INGU  TOTAL_POP  MALE_POP  \\\n",
       "0    종로구     사직동    11110  1111000   4414        2.14       9717      4467   \n",
       "1    종로구     삼청동    11110  1111000   1414        2.06       3097      1459   \n",
       "2    종로구     부암동    11110  1111000   4325        2.39      10726      5160   \n",
       "3    종로구     평창동    11110  1111000   7510        2.53      19163      9032   \n",
       "4    종로구     무악동    11110  1111000   3024        2.75       8375      3921   \n",
       "\n",
       "   FEMALE_POP  65_OVER                                               geom  \\\n",
       "0        5250     1708  POLYGON ((126.9768888427482 37.57565077944879,...   \n",
       "1        1638      634  POLYGON ((126.982689386493 37.5950655194224, 1...   \n",
       "2        5566     1748  POLYGON ((126.9758511377569 37.59656422224408,...   \n",
       "3       10131     3037  POLYGON ((126.9750746678809 37.63138628651299,...   \n",
       "4        4454     1279  POLYGON ((126.960673532739 37.58079784202972, ...   \n",
       "\n",
       "                                     centoroid  \n",
       "0  POINT (126.9701436944192 37.57410804599586)  \n",
       "1  POINT (126.9811137153512 37.58801343786098)  \n",
       "2  POINT (126.9625567482273 37.59669865828479)  \n",
       "3  POINT (126.9692740196906 37.61396501050034)  \n",
       "4  POINT (126.9589890500936 37.57774075208369)  "
      ]
     },
     "execution_count": 31,
     "metadata": {},
     "output_type": "execute_result"
    }
   ],
   "source": [
    "# _26 GeoDataFrame의 새로운 컬럼에 폴리곤 중심점 값을 할당하기\n",
    "seoul_h_dong_gdf['centoroid'] = seoul_h_dong_gdf.centroid\n",
    "seoul_h_dong_gdf.head()"
   ]
  },
  {
   "cell_type": "code",
   "execution_count": 32,
   "metadata": {},
   "outputs": [
    {
     "data": {
      "text/plain": [
       "'centoroid'"
      ]
     },
     "execution_count": 32,
     "metadata": {},
     "output_type": "execute_result"
    }
   ],
   "source": [
    "# _27 해당 Dataframe의 geometry컬럼 변경하기\n",
    "seoul_h_dong_gdf = seoul_h_dong_gdf.set_geometry('centoroid')\n",
    "seoul_h_dong_gdf.geometry.name"
   ]
  },
  {
   "cell_type": "code",
   "execution_count": 33,
   "metadata": {},
   "outputs": [
    {
     "data": {
      "text/plain": [
       "<matplotlib.axes._subplots.AxesSubplot at 0x11bd3b828>"
      ]
     },
     "execution_count": 33,
     "metadata": {},
     "output_type": "execute_result"
    },
    {
     "data": {
      "image/png": "[encoded data removed]",
      "text/plain": [
       "<Figure size 432x288 with 1 Axes>"
      ]
     },
     "metadata": {
      "needs_background": "light"
     },
     "output_type": "display_data"
    }
   ],
   "source": [
    "# _28 plot\n",
    "seoul_h_dong_gdf.plot()"
   ]
  },
  {
   "cell_type": "code",
   "execution_count": 34,
   "metadata": {},
   "outputs": [
    {
     "name": "stdout",
     "output_type": "stream",
     "text": [
      "<class 'pandas.core.series.Series'>\n",
      "<class 'geopandas.geoseries.GeoSeries'>\n"
     ]
    }
   ],
   "source": [
    "print(type(seoul_h_dong_gdf['geom']))\n",
    "print(type(seoul_h_dong_gdf['centoroid']))"
   ]
  },
  {
   "cell_type": "markdown",
   "metadata": {},
   "source": [
    "##  Writing data"
   ]
  },
  {
   "cell_type": "code",
   "execution_count": 35,
   "metadata": {},
   "outputs": [
    {
     "name": "stdout",
     "output_type": "stream",
     "text": [
      "mkdir: ./maps/output: File exists\r\n"
     ]
    }
   ],
   "source": [
    "# 폴더생성\n",
    "!mkdir ./maps/output"
   ]
  },
  {
   "cell_type": "code",
   "execution_count": 36,
   "metadata": {},
   "outputs": [
    {
     "ename": "ValueError",
     "evalue": "Invalid field type <class 'shapely.geometry.polygon.Polygon'>",
     "output_type": "error",
     "traceback": [
      "\u001b[0;31m---------------------------------------------------------------------------\u001b[0m",
      "\u001b[0;31mValueError\u001b[0m                                Traceback (most recent call last)",
      "\u001b[0;32m<ipython-input-36-1ce0dba6fc1c>\u001b[0m in \u001b[0;36m<module>\u001b[0;34m\u001b[0m\n\u001b[1;32m      1\u001b[0m \u001b[0;31m# _29 shp파일 저장하기 (에러발생)\u001b[0m\u001b[0;34m\u001b[0m\u001b[0;34m\u001b[0m\u001b[0;34m\u001b[0m\u001b[0m\n\u001b[0;32m----> 2\u001b[0;31m \u001b[0mseoul_h_dong_gdf\u001b[0m\u001b[0;34m.\u001b[0m\u001b[0mto_file\u001b[0m\u001b[0;34m(\u001b[0m\u001b[0;34m'./maps/output/seoul_h_dong'\u001b[0m\u001b[0;34m,\u001b[0m \u001b[0mencoding\u001b[0m\u001b[0;34m=\u001b[0m\u001b[0;34m'utf-8'\u001b[0m\u001b[0;34m)\u001b[0m\u001b[0;34m\u001b[0m\u001b[0;34m\u001b[0m\u001b[0m\n\u001b[0m",
      "\u001b[0;32m/usr/local/lib/python3.7/site-packages/geopandas/geodataframe.py\u001b[0m in \u001b[0;36mto_file\u001b[0;34m(self, filename, driver, schema, **kwargs)\u001b[0m\n\u001b[1;32m    427\u001b[0m         \"\"\"\n\u001b[1;32m    428\u001b[0m         \u001b[0;32mfrom\u001b[0m \u001b[0mgeopandas\u001b[0m\u001b[0;34m.\u001b[0m\u001b[0mio\u001b[0m\u001b[0;34m.\u001b[0m\u001b[0mfile\u001b[0m \u001b[0;32mimport\u001b[0m \u001b[0mto_file\u001b[0m\u001b[0;34m\u001b[0m\u001b[0;34m\u001b[0m\u001b[0m\n\u001b[0;32m--> 429\u001b[0;31m         \u001b[0mto_file\u001b[0m\u001b[0;34m(\u001b[0m\u001b[0mself\u001b[0m\u001b[0;34m,\u001b[0m \u001b[0mfilename\u001b[0m\u001b[0;34m,\u001b[0m \u001b[0mdriver\u001b[0m\u001b[0;34m,\u001b[0m \u001b[0mschema\u001b[0m\u001b[0;34m,\u001b[0m \u001b[0;34m**\u001b[0m\u001b[0mkwargs\u001b[0m\u001b[0;34m)\u001b[0m\u001b[0;34m\u001b[0m\u001b[0;34m\u001b[0m\u001b[0m\n\u001b[0m\u001b[1;32m    430\u001b[0m \u001b[0;34m\u001b[0m\u001b[0m\n\u001b[1;32m    431\u001b[0m     \u001b[0;32mdef\u001b[0m \u001b[0mto_crs\u001b[0m\u001b[0;34m(\u001b[0m\u001b[0mself\u001b[0m\u001b[0;34m,\u001b[0m \u001b[0mcrs\u001b[0m\u001b[0;34m=\u001b[0m\u001b[0;32mNone\u001b[0m\u001b[0;34m,\u001b[0m \u001b[0mepsg\u001b[0m\u001b[0;34m=\u001b[0m\u001b[0;32mNone\u001b[0m\u001b[0;34m,\u001b[0m \u001b[0minplace\u001b[0m\u001b[0;34m=\u001b[0m\u001b[0;32mFalse\u001b[0m\u001b[0;34m)\u001b[0m\u001b[0;34m:\u001b[0m\u001b[0;34m\u001b[0m\u001b[0;34m\u001b[0m\u001b[0m\n",
      "\u001b[0;32m/usr/local/lib/python3.7/site-packages/geopandas/io/file.py\u001b[0m in \u001b[0;36mto_file\u001b[0;34m(df, filename, driver, schema, **kwargs)\u001b[0m\n\u001b[1;32m    129\u001b[0m         with fiona.open(filename, 'w', driver=driver, crs=df.crs,\n\u001b[1;32m    130\u001b[0m                         schema=schema, **kwargs) as colxn:\n\u001b[0;32m--> 131\u001b[0;31m             \u001b[0mcolxn\u001b[0m\u001b[0;34m.\u001b[0m\u001b[0mwriterecords\u001b[0m\u001b[0;34m(\u001b[0m\u001b[0mdf\u001b[0m\u001b[0;34m.\u001b[0m\u001b[0miterfeatures\u001b[0m\u001b[0;34m(\u001b[0m\u001b[0;34m)\u001b[0m\u001b[0;34m)\u001b[0m\u001b[0;34m\u001b[0m\u001b[0;34m\u001b[0m\u001b[0m\n\u001b[0m\u001b[1;32m    132\u001b[0m \u001b[0;34m\u001b[0m\u001b[0m\n\u001b[1;32m    133\u001b[0m \u001b[0;34m\u001b[0m\u001b[0m\n",
      "\u001b[0;32m/usr/local/lib/python3.7/site-packages/fiona/collection.py\u001b[0m in \u001b[0;36mwriterecords\u001b[0;34m(self, records)\u001b[0m\n\u001b[1;32m    345\u001b[0m         \u001b[0;32mif\u001b[0m \u001b[0mself\u001b[0m\u001b[0;34m.\u001b[0m\u001b[0mmode\u001b[0m \u001b[0;32mnot\u001b[0m \u001b[0;32min\u001b[0m \u001b[0;34m(\u001b[0m\u001b[0;34m'a'\u001b[0m\u001b[0;34m,\u001b[0m \u001b[0;34m'w'\u001b[0m\u001b[0;34m)\u001b[0m\u001b[0;34m:\u001b[0m\u001b[0;34m\u001b[0m\u001b[0;34m\u001b[0m\u001b[0m\n\u001b[1;32m    346\u001b[0m             \u001b[0;32mraise\u001b[0m \u001b[0mIOError\u001b[0m\u001b[0;34m(\u001b[0m\u001b[0;34m\"collection not open for writing\"\u001b[0m\u001b[0;34m)\u001b[0m\u001b[0;34m\u001b[0m\u001b[0;34m\u001b[0m\u001b[0m\n\u001b[0;32m--> 347\u001b[0;31m         \u001b[0mself\u001b[0m\u001b[0;34m.\u001b[0m\u001b[0msession\u001b[0m\u001b[0;34m.\u001b[0m\u001b[0mwriterecs\u001b[0m\u001b[0;34m(\u001b[0m\u001b[0mrecords\u001b[0m\u001b[0;34m,\u001b[0m \u001b[0mself\u001b[0m\u001b[0;34m)\u001b[0m\u001b[0;34m\u001b[0m\u001b[0;34m\u001b[0m\u001b[0m\n\u001b[0m\u001b[1;32m    348\u001b[0m         \u001b[0mself\u001b[0m\u001b[0;34m.\u001b[0m\u001b[0m_len\u001b[0m \u001b[0;34m=\u001b[0m \u001b[0mself\u001b[0m\u001b[0;34m.\u001b[0m\u001b[0msession\u001b[0m\u001b[0;34m.\u001b[0m\u001b[0mget_length\u001b[0m\u001b[0;34m(\u001b[0m\u001b[0;34m)\u001b[0m\u001b[0;34m\u001b[0m\u001b[0;34m\u001b[0m\u001b[0m\n\u001b[1;32m    349\u001b[0m         \u001b[0mself\u001b[0m\u001b[0;34m.\u001b[0m\u001b[0m_bounds\u001b[0m \u001b[0;34m=\u001b[0m \u001b[0mself\u001b[0m\u001b[0;34m.\u001b[0m\u001b[0msession\u001b[0m\u001b[0;34m.\u001b[0m\u001b[0mget_extent\u001b[0m\u001b[0;34m(\u001b[0m\u001b[0;34m)\u001b[0m\u001b[0;34m\u001b[0m\u001b[0;34m\u001b[0m\u001b[0m\n",
      "\u001b[0;32mfiona/ogrext.pyx\u001b[0m in \u001b[0;36mfiona.ogrext.WritingSession.writerecs\u001b[0;34m()\u001b[0m\n",
      "\u001b[0;32mfiona/ogrext.pyx\u001b[0m in \u001b[0;36mfiona.ogrext.OGRFeatureBuilder.build\u001b[0;34m()\u001b[0m\n",
      "\u001b[0;31mValueError\u001b[0m: Invalid field type <class 'shapely.geometry.polygon.Polygon'>"
     ]
    }
   ],
   "source": [
    "# _29 shp파일 저장하기 (에러발생)\n",
    "seoul_h_dong_gdf.to_file('./maps/output/seoul_h_dong', encoding='utf-8')"
   ]
  },
  {
   "cell_type": "code",
   "execution_count": 37,
   "metadata": {},
   "outputs": [
    {
     "data": {
      "text/html": [
       "<div>\n",
       "<style scoped>\n",
       "    .dataframe tbody tr th:only-of-type {\n",
       "        vertical-align: middle;\n",
       "    }\n",
       "\n",
       "    .dataframe tbody tr th {\n",
       "        vertical-align: top;\n",
       "    }\n",
       "\n",
       "    .dataframe thead th {\n",
       "        text-align: right;\n",
       "    }\n",
       "</style>\n",
       "<table border=\"1\" class=\"dataframe\">\n",
       "  <thead>\n",
       "    <tr style=\"text-align: right;\">\n",
       "      <th></th>\n",
       "      <th>SGG_NM</th>\n",
       "      <th>DONG_NM</th>\n",
       "      <th>SGG_CODE</th>\n",
       "      <th>H_CODE</th>\n",
       "      <th>SEDAE</th>\n",
       "      <th>SEDAE_INGU</th>\n",
       "      <th>TOTAL_POP</th>\n",
       "      <th>MALE_POP</th>\n",
       "      <th>FEMALE_POP</th>\n",
       "      <th>65_OVER</th>\n",
       "      <th>geom</th>\n",
       "    </tr>\n",
       "  </thead>\n",
       "  <tbody>\n",
       "    <tr>\n",
       "      <th>0</th>\n",
       "      <td>종로구</td>\n",
       "      <td>사직동</td>\n",
       "      <td>11110</td>\n",
       "      <td>1111000</td>\n",
       "      <td>4414</td>\n",
       "      <td>2.14</td>\n",
       "      <td>9717</td>\n",
       "      <td>4467</td>\n",
       "      <td>5250</td>\n",
       "      <td>1708</td>\n",
       "      <td>POLYGON ((126.9768888427482 37.57565077944879,...</td>\n",
       "    </tr>\n",
       "    <tr>\n",
       "      <th>1</th>\n",
       "      <td>종로구</td>\n",
       "      <td>삼청동</td>\n",
       "      <td>11110</td>\n",
       "      <td>1111000</td>\n",
       "      <td>1414</td>\n",
       "      <td>2.06</td>\n",
       "      <td>3097</td>\n",
       "      <td>1459</td>\n",
       "      <td>1638</td>\n",
       "      <td>634</td>\n",
       "      <td>POLYGON ((126.982689386493 37.5950655194224, 1...</td>\n",
       "    </tr>\n",
       "    <tr>\n",
       "      <th>2</th>\n",
       "      <td>종로구</td>\n",
       "      <td>부암동</td>\n",
       "      <td>11110</td>\n",
       "      <td>1111000</td>\n",
       "      <td>4325</td>\n",
       "      <td>2.39</td>\n",
       "      <td>10726</td>\n",
       "      <td>5160</td>\n",
       "      <td>5566</td>\n",
       "      <td>1748</td>\n",
       "      <td>POLYGON ((126.9758511377569 37.59656422224408,...</td>\n",
       "    </tr>\n",
       "    <tr>\n",
       "      <th>3</th>\n",
       "      <td>종로구</td>\n",
       "      <td>평창동</td>\n",
       "      <td>11110</td>\n",
       "      <td>1111000</td>\n",
       "      <td>7510</td>\n",
       "      <td>2.53</td>\n",
       "      <td>19163</td>\n",
       "      <td>9032</td>\n",
       "      <td>10131</td>\n",
       "      <td>3037</td>\n",
       "      <td>POLYGON ((126.9750746678809 37.63138628651299,...</td>\n",
       "    </tr>\n",
       "    <tr>\n",
       "      <th>4</th>\n",
       "      <td>종로구</td>\n",
       "      <td>무악동</td>\n",
       "      <td>11110</td>\n",
       "      <td>1111000</td>\n",
       "      <td>3024</td>\n",
       "      <td>2.75</td>\n",
       "      <td>8375</td>\n",
       "      <td>3921</td>\n",
       "      <td>4454</td>\n",
       "      <td>1279</td>\n",
       "      <td>POLYGON ((126.960673532739 37.58079784202972, ...</td>\n",
       "    </tr>\n",
       "  </tbody>\n",
       "</table>\n",
       "</div>"
      ],
      "text/plain": [
       "  SGG_NM DONG_NM SGG_CODE   H_CODE  SEDAE  SEDAE_INGU  TOTAL_POP  MALE_POP  \\\n",
       "0    종로구     사직동    11110  1111000   4414        2.14       9717      4467   \n",
       "1    종로구     삼청동    11110  1111000   1414        2.06       3097      1459   \n",
       "2    종로구     부암동    11110  1111000   4325        2.39      10726      5160   \n",
       "3    종로구     평창동    11110  1111000   7510        2.53      19163      9032   \n",
       "4    종로구     무악동    11110  1111000   3024        2.75       8375      3921   \n",
       "\n",
       "   FEMALE_POP  65_OVER                                               geom  \n",
       "0        5250     1708  POLYGON ((126.9768888427482 37.57565077944879,...  \n",
       "1        1638      634  POLYGON ((126.982689386493 37.5950655194224, 1...  \n",
       "2        5566     1748  POLYGON ((126.9758511377569 37.59656422224408,...  \n",
       "3       10131     3037  POLYGON ((126.9750746678809 37.63138628651299,...  \n",
       "4        4454     1279  POLYGON ((126.960673532739 37.58079784202972, ...  "
      ]
     },
     "execution_count": 37,
     "metadata": {},
     "output_type": "execute_result"
    }
   ],
   "source": [
    "# _30 불필요한 컬럼 제거하기\n",
    "# 파일 저장 시 GeoDataFrame에는 좌표정보가 반드시 하나만 있어야 한다.\n",
    "columns = ['SGG_NM', 'DONG_NM','SGG_CODE', 'H_CODE', 'SEDAE', 'SEDAE_INGU', 'TOTAL_POP', 'MALE_POP', 'FEMALE_POP', '65_OVER','geom']\n",
    "gdf = gpd.GeoDataFrame(seoul_h_dong_gdf[columns], geometry='geom')\n",
    "gdf.head()"
   ]
  },
  {
   "cell_type": "code",
   "execution_count": 38,
   "metadata": {},
   "outputs": [
    {
     "data": {
      "text/plain": [
       "geopandas.geodataframe.GeoDataFrame"
      ]
     },
     "execution_count": 38,
     "metadata": {},
     "output_type": "execute_result"
    }
   ],
   "source": [
    "# _31 Dataframe 타입 확인\n",
    "type(gdf)"
   ]
  },
  {
   "cell_type": "code",
   "execution_count": 39,
   "metadata": {},
   "outputs": [],
   "source": [
    "# _32 shp파일로 저장하기\n",
    "gdf.to_file('./maps/output/seoul_h_dong', encoding='utf-8')"
   ]
  },
  {
   "cell_type": "code",
   "execution_count": 40,
   "metadata": {},
   "outputs": [],
   "source": [
    "# _33 geojson으로 저장하기\n",
    "gdf.to_file('./maps/output/seoul_h_dong.geojson', driver='GeoJSON')"
   ]
  },
  {
   "cell_type": "code",
   "execution_count": null,
   "metadata": {},
   "outputs": [],
   "source": []
  }
 ],
 "metadata": {
  "kernelspec": {
   "display_name": "Python 3",
   "language": "python",
   "name": "python3"
  },
  "language_info": {
   "codemirror_mode": {
    "name": "ipython",
    "version": 3
   },
   "file_extension": ".py",
   "mimetype": "text/x-python",
   "name": "python",
   "nbconvert_exporter": "python",
   "pygments_lexer": "ipython3",
   "version": "3.7.3"
  }
 },
 "nbformat": 4,
 "nbformat_minor": 2
}
