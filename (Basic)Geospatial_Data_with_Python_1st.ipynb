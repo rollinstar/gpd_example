{
 "cells": [
  {
   "cell_type": "markdown",
   "metadata": {},
   "source": [
    "# GIS (Geographic Information System or Science)\n",
    "\n",
    "* 지리공간데이터를 생성/편집/저장/분석/시각화하기 위한 모든 Computer Science\n",
    "\n",
    "#### Geographic\n",
    "* 지표상에 있는 모든 지리(地理)적 사상(Feature)\n",
    "\n",
    "#### Information\n",
    "* 디지털화된 데이터\n",
    "\n",
    "#### System / Science\n",
    "* 지리공간데이터를 처리하기 위한 모든 기법/방법"
   ]
  },
  {
   "cell_type": "markdown",
   "metadata": {},
   "source": [
    "# GeoPandas\n",
    "\n",
    "* 지리공간데이터(Geospatial Data)를 처리하기 위한 라이브러리"
   ]
  },
  {
   "cell_type": "code",
   "execution_count": 2,
   "metadata": {},
   "outputs": [],
   "source": [
    "# 라이브러리 추가하기\n",
    "import geopandas as gpd"
   ]
  },
  {
   "cell_type": "markdown",
   "metadata": {},
   "source": [
    "##  Reading data"
   ]
  },
  {
   "cell_type": "code",
   "execution_count": 3,
   "metadata": {},
   "outputs": [],
   "source": [
    "# 서울시 법정동 .shp파일\n",
    "_seoul_umd = './maps/LSMD_ADM_SECT_UMD_11/LSMD_ADM_SECT_UMD_11_MOD.shp'"
   ]
  },
  {
   "cell_type": "code",
   "execution_count": 4,
   "metadata": {},
   "outputs": [],
   "source": [
    "# 지도 파일을 불러와 GeoDataFrame 생성하기\n",
    "seoul_umd_gdf = gpd.read_file(_seoul_umd)"
   ]
  },
  {
   "cell_type": "code",
   "execution_count": 5,
   "metadata": {},
   "outputs": [
    {
     "data": {
      "text/html": [
       "<div>\n",
       "<style scoped>\n",
       "    .dataframe tbody tr th:only-of-type {\n",
       "        vertical-align: middle;\n",
       "    }\n",
       "\n",
       "    .dataframe tbody tr th {\n",
       "        vertical-align: top;\n",
       "    }\n",
       "\n",
       "    .dataframe thead th {\n",
       "        text-align: right;\n",
       "    }\n",
       "</style>\n",
       "<table border=\"1\" class=\"dataframe\">\n",
       "  <thead>\n",
       "    <tr style=\"text-align: right;\">\n",
       "      <th></th>\n",
       "      <th>EMD_CD</th>\n",
       "      <th>EMD_NM</th>\n",
       "      <th>SGG_OID</th>\n",
       "      <th>COL_ADM_SE</th>\n",
       "      <th>GID</th>\n",
       "      <th>geometry</th>\n",
       "    </tr>\n",
       "  </thead>\n",
       "  <tbody>\n",
       "    <tr>\n",
       "      <th>0</th>\n",
       "      <td>11620101</td>\n",
       "      <td>봉천동</td>\n",
       "      <td>370</td>\n",
       "      <td>11620</td>\n",
       "      <td>5074</td>\n",
       "      <td>POLYGON ((126.9666128134386 37.45606662982718,...</td>\n",
       "    </tr>\n",
       "    <tr>\n",
       "      <th>1</th>\n",
       "      <td>11620102</td>\n",
       "      <td>신림동</td>\n",
       "      <td>369</td>\n",
       "      <td>11620</td>\n",
       "      <td>5073</td>\n",
       "      <td>POLYGON ((126.924155236186 37.48996332682475, ...</td>\n",
       "    </tr>\n",
       "    <tr>\n",
       "      <th>2</th>\n",
       "      <td>11440126</td>\n",
       "      <td>중동</td>\n",
       "      <td>4259</td>\n",
       "      <td>11440</td>\n",
       "      <td>2750</td>\n",
       "      <td>(POLYGON ((126.9005885429364 37.57384854335802...</td>\n",
       "    </tr>\n",
       "    <tr>\n",
       "      <th>3</th>\n",
       "      <td>11440120</td>\n",
       "      <td>서교동</td>\n",
       "      <td>2021</td>\n",
       "      <td>11440</td>\n",
       "      <td>2751</td>\n",
       "      <td>(POLYGON ((126.9088210997562 37.55738619899759...</td>\n",
       "    </tr>\n",
       "    <tr>\n",
       "      <th>4</th>\n",
       "      <td>11440109</td>\n",
       "      <td>염리동</td>\n",
       "      <td>1714</td>\n",
       "      <td>11440</td>\n",
       "      <td>2752</td>\n",
       "      <td>POLYGON ((126.943913138613 37.54299547072163, ...</td>\n",
       "    </tr>\n",
       "  </tbody>\n",
       "</table>\n",
       "</div>"
      ],
      "text/plain": [
       "     EMD_CD EMD_NM  SGG_OID COL_ADM_SE   GID  \\\n",
       "0  11620101    봉천동      370      11620  5074   \n",
       "1  11620102    신림동      369      11620  5073   \n",
       "2  11440126     중동     4259      11440  2750   \n",
       "3  11440120    서교동     2021      11440  2751   \n",
       "4  11440109    염리동     1714      11440  2752   \n",
       "\n",
       "                                            geometry  \n",
       "0  POLYGON ((126.9666128134386 37.45606662982718,...  \n",
       "1  POLYGON ((126.924155236186 37.48996332682475, ...  \n",
       "2  (POLYGON ((126.9005885429364 37.57384854335802...  \n",
       "3  (POLYGON ((126.9088210997562 37.55738619899759...  \n",
       "4  POLYGON ((126.943913138613 37.54299547072163, ...  "
      ]
     },
     "execution_count": 5,
     "metadata": {},
     "output_type": "execute_result"
    }
   ],
   "source": [
    "# 데이터 확인하기\n",
    "seoul_umd_gdf.head()"
   ]
  },
  {
   "cell_type": "code",
   "execution_count": 6,
   "metadata": {},
   "outputs": [
    {
     "name": "stdout",
     "output_type": "stream",
     "text": [
      "<class 'geopandas.geodataframe.GeoDataFrame'>\n",
      "RangeIndex: 467 entries, 0 to 466\n",
      "Data columns (total 6 columns):\n",
      "EMD_CD        467 non-null object\n",
      "EMD_NM        467 non-null object\n",
      "SGG_OID       467 non-null int64\n",
      "COL_ADM_SE    467 non-null object\n",
      "GID           467 non-null int64\n",
      "geometry      467 non-null object\n",
      "dtypes: int64(2), object(4)\n",
      "memory usage: 22.0+ KB\n"
     ]
    }
   ],
   "source": [
    "# Dataframe 개요정보 확인하기\n",
    "seoul_umd_gdf.info()"
   ]
  },
  {
   "cell_type": "code",
   "execution_count": 7,
   "metadata": {},
   "outputs": [
    {
     "data": {
      "text/html": [
       "<div>\n",
       "<style scoped>\n",
       "    .dataframe tbody tr th:only-of-type {\n",
       "        vertical-align: middle;\n",
       "    }\n",
       "\n",
       "    .dataframe tbody tr th {\n",
       "        vertical-align: top;\n",
       "    }\n",
       "\n",
       "    .dataframe thead th {\n",
       "        text-align: right;\n",
       "    }\n",
       "</style>\n",
       "<table border=\"1\" class=\"dataframe\">\n",
       "  <thead>\n",
       "    <tr style=\"text-align: right;\">\n",
       "      <th></th>\n",
       "      <th>SGG_OID</th>\n",
       "      <th>GID</th>\n",
       "    </tr>\n",
       "  </thead>\n",
       "  <tbody>\n",
       "    <tr>\n",
       "      <th>count</th>\n",
       "      <td>467.000000</td>\n",
       "      <td>467.000000</td>\n",
       "    </tr>\n",
       "    <tr>\n",
       "      <th>mean</th>\n",
       "      <td>515.057816</td>\n",
       "      <td>2867.668094</td>\n",
       "    </tr>\n",
       "    <tr>\n",
       "      <th>std</th>\n",
       "      <td>751.570789</td>\n",
       "      <td>244.517680</td>\n",
       "    </tr>\n",
       "    <tr>\n",
       "      <th>min</th>\n",
       "      <td>33.000000</td>\n",
       "      <td>2615.000000</td>\n",
       "    </tr>\n",
       "    <tr>\n",
       "      <th>25%</th>\n",
       "      <td>146.000000</td>\n",
       "      <td>2733.500000</td>\n",
       "    </tr>\n",
       "    <tr>\n",
       "      <th>50%</th>\n",
       "      <td>322.000000</td>\n",
       "      <td>2850.000000</td>\n",
       "    </tr>\n",
       "    <tr>\n",
       "      <th>75%</th>\n",
       "      <td>397.500000</td>\n",
       "      <td>2968.500000</td>\n",
       "    </tr>\n",
       "    <tr>\n",
       "      <th>max</th>\n",
       "      <td>4259.000000</td>\n",
       "      <td>5074.000000</td>\n",
       "    </tr>\n",
       "  </tbody>\n",
       "</table>\n",
       "</div>"
      ],
      "text/plain": [
       "           SGG_OID          GID\n",
       "count   467.000000   467.000000\n",
       "mean    515.057816  2867.668094\n",
       "std     751.570789   244.517680\n",
       "min      33.000000  2615.000000\n",
       "25%     146.000000  2733.500000\n",
       "50%     322.000000  2850.000000\n",
       "75%     397.500000  2968.500000\n",
       "max    4259.000000  5074.000000"
      ]
     },
     "execution_count": 7,
     "metadata": {},
     "output_type": "execute_result"
    }
   ],
   "source": [
    "# Dataframe 통계정보 확인하기\n",
    "seoul_umd_gdf.describe()"
   ]
  },
  {
   "cell_type": "code",
   "execution_count": 8,
   "metadata": {},
   "outputs": [
    {
     "name": "stdout",
     "output_type": "stream",
     "text": [
      "<class 'geopandas.geodataframe.GeoDataFrame'>\n",
      "RangeIndex: 467 entries, 0 to 466\n",
      "Data columns (total 6 columns):\n",
      "EMD_CD        467 non-null object\n",
      "EMD_NM        467 non-null object\n",
      "SGG_OID       467 non-null int64\n",
      "COL_ADM_SE    467 non-null object\n",
      "GID           467 non-null int64\n",
      "geometry      467 non-null object\n",
      "dtypes: int64(2), object(4)\n",
      "memory usage: 22.0+ KB\n"
     ]
    },
    {
     "data": {
      "text/html": [
       "<div>\n",
       "<style scoped>\n",
       "    .dataframe tbody tr th:only-of-type {\n",
       "        vertical-align: middle;\n",
       "    }\n",
       "\n",
       "    .dataframe tbody tr th {\n",
       "        vertical-align: top;\n",
       "    }\n",
       "\n",
       "    .dataframe thead th {\n",
       "        text-align: right;\n",
       "    }\n",
       "</style>\n",
       "<table border=\"1\" class=\"dataframe\">\n",
       "  <thead>\n",
       "    <tr style=\"text-align: right;\">\n",
       "      <th></th>\n",
       "      <th>EMD_CD</th>\n",
       "      <th>EMD_NM</th>\n",
       "      <th>SGG_OID</th>\n",
       "      <th>COL_ADM_SE</th>\n",
       "      <th>GID</th>\n",
       "      <th>geometry</th>\n",
       "    </tr>\n",
       "  </thead>\n",
       "  <tbody>\n",
       "    <tr>\n",
       "      <th>0</th>\n",
       "      <td>11620101</td>\n",
       "      <td>봉천동</td>\n",
       "      <td>370</td>\n",
       "      <td>11620</td>\n",
       "      <td>5074</td>\n",
       "      <td>POLYGON ((126.9666128134386 37.45606662982718,...</td>\n",
       "    </tr>\n",
       "    <tr>\n",
       "      <th>1</th>\n",
       "      <td>11620102</td>\n",
       "      <td>신림동</td>\n",
       "      <td>369</td>\n",
       "      <td>11620</td>\n",
       "      <td>5073</td>\n",
       "      <td>POLYGON ((126.924155236186 37.48996332682475, ...</td>\n",
       "    </tr>\n",
       "    <tr>\n",
       "      <th>2</th>\n",
       "      <td>11440126</td>\n",
       "      <td>중동</td>\n",
       "      <td>4259</td>\n",
       "      <td>11440</td>\n",
       "      <td>2750</td>\n",
       "      <td>(POLYGON ((126.9005885429364 37.57384854335802...</td>\n",
       "    </tr>\n",
       "    <tr>\n",
       "      <th>3</th>\n",
       "      <td>11440120</td>\n",
       "      <td>서교동</td>\n",
       "      <td>2021</td>\n",
       "      <td>11440</td>\n",
       "      <td>2751</td>\n",
       "      <td>(POLYGON ((126.9088210997562 37.55738619899759...</td>\n",
       "    </tr>\n",
       "    <tr>\n",
       "      <th>4</th>\n",
       "      <td>11440109</td>\n",
       "      <td>염리동</td>\n",
       "      <td>1714</td>\n",
       "      <td>11440</td>\n",
       "      <td>2752</td>\n",
       "      <td>POLYGON ((126.943913138613 37.54299547072163, ...</td>\n",
       "    </tr>\n",
       "  </tbody>\n",
       "</table>\n",
       "</div>"
      ],
      "text/plain": [
       "     EMD_CD EMD_NM  SGG_OID COL_ADM_SE   GID  \\\n",
       "0  11620101    봉천동      370      11620  5074   \n",
       "1  11620102    신림동      369      11620  5073   \n",
       "2  11440126     중동     4259      11440  2750   \n",
       "3  11440120    서교동     2021      11440  2751   \n",
       "4  11440109    염리동     1714      11440  2752   \n",
       "\n",
       "                                            geometry  \n",
       "0  POLYGON ((126.9666128134386 37.45606662982718,...  \n",
       "1  POLYGON ((126.924155236186 37.48996332682475, ...  \n",
       "2  (POLYGON ((126.9005885429364 37.57384854335802...  \n",
       "3  (POLYGON ((126.9088210997562 37.55738619899759...  \n",
       "4  POLYGON ((126.943913138613 37.54299547072163, ...  "
      ]
     },
     "execution_count": 8,
     "metadata": {},
     "output_type": "execute_result"
    }
   ],
   "source": [
    "seoul_umd_gdf.info()\n",
    "seoul_umd_gdf.head()"
   ]
  },
  {
   "cell_type": "markdown",
   "metadata": {},
   "source": [
    "#### GeoPandas Data Structure(데이터 구조)\n",
    "##### GeoDataFrame / Series / GeoSeries"
   ]
  },
  {
   "cell_type": "code",
   "execution_count": 9,
   "metadata": {},
   "outputs": [
    {
     "name": "stdout",
     "output_type": "stream",
     "text": [
      "<class 'geopandas.geodataframe.GeoDataFrame'>\n",
      "<class 'pandas.core.series.Series'>\n",
      "<class 'geopandas.geoseries.GeoSeries'>\n"
     ]
    }
   ],
   "source": [
    "print(type(seoul_umd_gdf))\n",
    "print(type(seoul_umd_gdf['EMD_NM']))\n",
    "print(type(seoul_umd_gdf['geometry']))"
   ]
  },
  {
   "cell_type": "markdown",
   "metadata": {},
   "source": [
    "### GeoSeries 알아보기\n",
    "* Pandas의 Series + Geometry\n",
    "\n",
    "##### GeoSeries 속성(Attributes)\n",
    "* geom_type\n",
    "* area\n",
    "* bounds\n",
    "* total_bounds"
   ]
  },
  {
   "cell_type": "code",
   "execution_count": 10,
   "metadata": {},
   "outputs": [
    {
     "data": {
      "text/plain": [
       "0         Polygon\n",
       "1         Polygon\n",
       "2    MultiPolygon\n",
       "3    MultiPolygon\n",
       "4         Polygon\n",
       "dtype: object"
      ]
     },
     "execution_count": 10,
     "metadata": {},
     "output_type": "execute_result"
    }
   ],
   "source": [
    "# geometry type 확인하기\n",
    "seoul_umd_gdf['geometry'].geom_type[:5]"
   ]
  },
  {
   "cell_type": "code",
   "execution_count": 11,
   "metadata": {},
   "outputs": [
    {
     "data": {
      "text/plain": [
       "0    0.000831\n",
       "1    0.001847\n",
       "2    0.000034\n",
       "3    0.000121\n",
       "4    0.000054\n",
       "dtype: float64"
      ]
     },
     "execution_count": 11,
     "metadata": {},
     "output_type": "execute_result"
    }
   ],
   "source": [
    "# GeoSeries 면적 계산하기\n",
    "seoul_umd_gdf['geometry'].area[:5]"
   ]
  },
  {
   "cell_type": "code",
   "execution_count": 12,
   "metadata": {},
   "outputs": [
    {
     "data": {
      "text/plain": [
       "0    0.165331\n",
       "1    0.231142\n",
       "2    0.041604\n",
       "3    0.064061\n",
       "4    0.052414\n",
       "dtype: float64"
      ]
     },
     "execution_count": 12,
     "metadata": {},
     "output_type": "execute_result"
    }
   ],
   "source": [
    "# 길이 확인하기\n",
    "seoul_umd_gdf['geometry'].length[:5]"
   ]
  },
  {
   "cell_type": "code",
   "execution_count": 13,
   "metadata": {},
   "outputs": [
    {
     "data": {
      "text/plain": [
       "{'init': 'epsg:4326'}"
      ]
     },
     "execution_count": 13,
     "metadata": {},
     "output_type": "execute_result"
    }
   ],
   "source": [
    "# 좌표체계 확인하기\n",
    "seoul_umd_gdf.crs"
   ]
  },
  {
   "cell_type": "code",
   "execution_count": 14,
   "metadata": {},
   "outputs": [
    {
     "data": {
      "text/html": [
       "<div>\n",
       "<style scoped>\n",
       "    .dataframe tbody tr th:only-of-type {\n",
       "        vertical-align: middle;\n",
       "    }\n",
       "\n",
       "    .dataframe tbody tr th {\n",
       "        vertical-align: top;\n",
       "    }\n",
       "\n",
       "    .dataframe thead th {\n",
       "        text-align: right;\n",
       "    }\n",
       "</style>\n",
       "<table border=\"1\" class=\"dataframe\">\n",
       "  <thead>\n",
       "    <tr style=\"text-align: right;\">\n",
       "      <th></th>\n",
       "      <th>minx</th>\n",
       "      <th>miny</th>\n",
       "      <th>maxx</th>\n",
       "      <th>maxy</th>\n",
       "    </tr>\n",
       "  </thead>\n",
       "  <tbody>\n",
       "    <tr>\n",
       "      <th>0</th>\n",
       "      <td>126.924102</td>\n",
       "      <td>37.454990</td>\n",
       "      <td>126.973992</td>\n",
       "      <td>37.495072</td>\n",
       "    </tr>\n",
       "    <tr>\n",
       "      <th>1</th>\n",
       "      <td>126.898944</td>\n",
       "      <td>37.435712</td>\n",
       "      <td>126.970569</td>\n",
       "      <td>37.490333</td>\n",
       "    </tr>\n",
       "    <tr>\n",
       "      <th>2</th>\n",
       "      <td>126.900589</td>\n",
       "      <td>37.567339</td>\n",
       "      <td>126.916785</td>\n",
       "      <td>37.576001</td>\n",
       "    </tr>\n",
       "    <tr>\n",
       "      <th>3</th>\n",
       "      <td>126.908821</td>\n",
       "      <td>37.548325</td>\n",
       "      <td>126.933386</td>\n",
       "      <td>37.558970</td>\n",
       "    </tr>\n",
       "    <tr>\n",
       "      <th>4</th>\n",
       "      <td>126.943650</td>\n",
       "      <td>37.541454</td>\n",
       "      <td>126.950558</td>\n",
       "      <td>37.556995</td>\n",
       "    </tr>\n",
       "  </tbody>\n",
       "</table>\n",
       "</div>"
      ],
      "text/plain": [
       "         minx       miny        maxx       maxy\n",
       "0  126.924102  37.454990  126.973992  37.495072\n",
       "1  126.898944  37.435712  126.970569  37.490333\n",
       "2  126.900589  37.567339  126.916785  37.576001\n",
       "3  126.908821  37.548325  126.933386  37.558970\n",
       "4  126.943650  37.541454  126.950558  37.556995"
      ]
     },
     "execution_count": 14,
     "metadata": {},
     "output_type": "execute_result"
    }
   ],
   "source": [
    "# GeoSeries bbox가져오기\n",
    "seoul_umd_gdf['geometry'].bounds[:5]"
   ]
  },
  {
   "cell_type": "code",
   "execution_count": 15,
   "metadata": {},
   "outputs": [
    {
     "data": {
      "text/plain": [
       "array([126.7644839 ,  37.42829722, 127.18379493,  37.70145496])"
      ]
     },
     "execution_count": 15,
     "metadata": {},
     "output_type": "execute_result"
    }
   ],
   "source": [
    "# 지도 전체 bbox가져오기\n",
    "seoul_umd_gdf['geometry'].total_bounds"
   ]
  },
  {
   "cell_type": "markdown",
   "metadata": {},
   "source": [
    "##### GeoSeries Method\n",
    "* centroid\n",
    "* distance()\n",
    "* representative_point()\n",
    "* plot()"
   ]
  },
  {
   "cell_type": "code",
   "execution_count": 16,
   "metadata": {},
   "outputs": [
    {
     "data": {
      "text/plain": [
       "0    POINT (126.9534831201879 37.47797051928343)\n",
       "1    POINT (126.9358086642211 37.46319855393769)\n",
       "2     POINT (126.9062316549448 37.5716037306557)\n",
       "3    POINT (126.9187010958127 37.55378211243569)\n",
       "4    POINT (126.9472741867784 37.54906680257832)\n",
       "dtype: object"
      ]
     },
     "execution_count": 16,
     "metadata": {},
     "output_type": "execute_result"
    }
   ],
   "source": [
    "# 폴리곤 중심점 \n",
    "seoul_umd_gdf['geometry'].centroid[:5]"
   ]
  },
  {
   "cell_type": "code",
   "execution_count": 17,
   "metadata": {},
   "outputs": [
    {
     "data": {
      "text/plain": [
       "0     POINT (126.9570189897206 37.4749913548565)\n",
       "1    POINT (126.9345648069987 37.46304682385981)\n",
       "2    POINT (126.9057022371753 37.57156756107864)\n",
       "3    POINT (126.9203098232254 37.55364694794186)\n",
       "4    POINT (126.9470769606106 37.54919607747402)\n",
       "dtype: object"
      ]
     },
     "execution_count": 17,
     "metadata": {},
     "output_type": "execute_result"
    }
   ],
   "source": [
    "seoul_umd_gdf['geometry'].representative_point()[:5]"
   ]
  },
  {
   "cell_type": "code",
   "execution_count": 18,
   "metadata": {},
   "outputs": [
    {
     "data": {
      "text/plain": [
       "0.023034698910505698"
      ]
     },
     "execution_count": 18,
     "metadata": {},
     "output_type": "execute_result"
    }
   ],
   "source": [
    "# 두점 거리 계산하기\n",
    "start_point = seoul_umd_gdf['geometry'].centroid[0]\n",
    "end_point = seoul_umd_gdf['geometry'].centroid[1]\n",
    "\n",
    "start_point.distance(end_point)"
   ]
  },
  {
   "cell_type": "markdown",
   "metadata": {},
   "source": [
    "### GeoDataFrame 알아보기"
   ]
  },
  {
   "cell_type": "code",
   "execution_count": 19,
   "metadata": {},
   "outputs": [],
   "source": [
    "# !pip3 install descartes"
   ]
  },
  {
   "cell_type": "code",
   "execution_count": 27,
   "metadata": {},
   "outputs": [
    {
     "data": {
      "text/plain": [
       "<matplotlib.axes._subplots.AxesSubplot at 0x1180ef128>"
      ]
     },
     "execution_count": 27,
     "metadata": {},
     "output_type": "execute_result"
    },
    {
     "data": {
      "image/png": "[encoded data removed]",
      "text/plain": [
       "<Figure size 432x288 with 1 Axes>"
      ]
     },
     "metadata": {
      "needs_background": "light"
     },
     "output_type": "display_data"
    }
   ],
   "source": [
    "# 지도 시각화\n",
    "seoul_umd_gdf.plot()"
   ]
  },
  {
   "cell_type": "code",
   "execution_count": 21,
   "metadata": {},
   "outputs": [
    {
     "data": {
      "text/plain": [
       "'geometry'"
      ]
     },
     "execution_count": 21,
     "metadata": {},
     "output_type": "execute_result"
    }
   ],
   "source": [
    "# 현재 위치정보(좌표)가 저장된 GeoSeries명 확인하기\n",
    "seoul_umd_gdf.geometry.name"
   ]
  },
  {
   "cell_type": "code",
   "execution_count": 22,
   "metadata": {},
   "outputs": [],
   "source": [
    "# 컬럼명 변경하기\n",
    "seoul_umd_gdf = seoul_umd_gdf.rename(columns={'geometry': 'geom'})"
   ]
  },
  {
   "cell_type": "code",
   "execution_count": 23,
   "metadata": {},
   "outputs": [
    {
     "data": {
      "text/plain": [
       "'geom'"
      ]
     },
     "execution_count": 23,
     "metadata": {},
     "output_type": "execute_result"
    }
   ],
   "source": [
    "# GeoDataFrame에 위치정보 등록하기\n",
    "seoul_umd_gdf = seoul_umd_gdf.set_geometry('geom')\n",
    "seoul_umd_gdf.geometry.name"
   ]
  },
  {
   "cell_type": "code",
   "execution_count": 24,
   "metadata": {},
   "outputs": [
    {
     "data": {
      "text/html": [
       "<div>\n",
       "<style scoped>\n",
       "    .dataframe tbody tr th:only-of-type {\n",
       "        vertical-align: middle;\n",
       "    }\n",
       "\n",
       "    .dataframe tbody tr th {\n",
       "        vertical-align: top;\n",
       "    }\n",
       "\n",
       "    .dataframe thead th {\n",
       "        text-align: right;\n",
       "    }\n",
       "</style>\n",
       "<table border=\"1\" class=\"dataframe\">\n",
       "  <thead>\n",
       "    <tr style=\"text-align: right;\">\n",
       "      <th></th>\n",
       "      <th>EMD_CD</th>\n",
       "      <th>EMD_NM</th>\n",
       "      <th>SGG_OID</th>\n",
       "      <th>COL_ADM_SE</th>\n",
       "      <th>GID</th>\n",
       "      <th>geom</th>\n",
       "      <th>centoroid</th>\n",
       "    </tr>\n",
       "  </thead>\n",
       "  <tbody>\n",
       "    <tr>\n",
       "      <th>0</th>\n",
       "      <td>11620101</td>\n",
       "      <td>봉천동</td>\n",
       "      <td>370</td>\n",
       "      <td>11620</td>\n",
       "      <td>5074</td>\n",
       "      <td>POLYGON ((126.9666128134386 37.45606662982718,...</td>\n",
       "      <td>POINT (126.9534831201879 37.47797051928343)</td>\n",
       "    </tr>\n",
       "    <tr>\n",
       "      <th>1</th>\n",
       "      <td>11620102</td>\n",
       "      <td>신림동</td>\n",
       "      <td>369</td>\n",
       "      <td>11620</td>\n",
       "      <td>5073</td>\n",
       "      <td>POLYGON ((126.924155236186 37.48996332682475, ...</td>\n",
       "      <td>POINT (126.9358086642211 37.46319855393769)</td>\n",
       "    </tr>\n",
       "    <tr>\n",
       "      <th>2</th>\n",
       "      <td>11440126</td>\n",
       "      <td>중동</td>\n",
       "      <td>4259</td>\n",
       "      <td>11440</td>\n",
       "      <td>2750</td>\n",
       "      <td>(POLYGON ((126.9005885429364 37.57384854335802...</td>\n",
       "      <td>POINT (126.9062316549448 37.5716037306557)</td>\n",
       "    </tr>\n",
       "    <tr>\n",
       "      <th>3</th>\n",
       "      <td>11440120</td>\n",
       "      <td>서교동</td>\n",
       "      <td>2021</td>\n",
       "      <td>11440</td>\n",
       "      <td>2751</td>\n",
       "      <td>(POLYGON ((126.9088210997562 37.55738619899759...</td>\n",
       "      <td>POINT (126.9187010958127 37.55378211243569)</td>\n",
       "    </tr>\n",
       "    <tr>\n",
       "      <th>4</th>\n",
       "      <td>11440109</td>\n",
       "      <td>염리동</td>\n",
       "      <td>1714</td>\n",
       "      <td>11440</td>\n",
       "      <td>2752</td>\n",
       "      <td>POLYGON ((126.943913138613 37.54299547072163, ...</td>\n",
       "      <td>POINT (126.9472741867784 37.54906680257832)</td>\n",
       "    </tr>\n",
       "  </tbody>\n",
       "</table>\n",
       "</div>"
      ],
      "text/plain": [
       "     EMD_CD EMD_NM  SGG_OID COL_ADM_SE   GID  \\\n",
       "0  11620101    봉천동      370      11620  5074   \n",
       "1  11620102    신림동      369      11620  5073   \n",
       "2  11440126     중동     4259      11440  2750   \n",
       "3  11440120    서교동     2021      11440  2751   \n",
       "4  11440109    염리동     1714      11440  2752   \n",
       "\n",
       "                                                geom  \\\n",
       "0  POLYGON ((126.9666128134386 37.45606662982718,...   \n",
       "1  POLYGON ((126.924155236186 37.48996332682475, ...   \n",
       "2  (POLYGON ((126.9005885429364 37.57384854335802...   \n",
       "3  (POLYGON ((126.9088210997562 37.55738619899759...   \n",
       "4  POLYGON ((126.943913138613 37.54299547072163, ...   \n",
       "\n",
       "                                     centoroid  \n",
       "0  POINT (126.9534831201879 37.47797051928343)  \n",
       "1  POINT (126.9358086642211 37.46319855393769)  \n",
       "2   POINT (126.9062316549448 37.5716037306557)  \n",
       "3  POINT (126.9187010958127 37.55378211243569)  \n",
       "4  POINT (126.9472741867784 37.54906680257832)  "
      ]
     },
     "execution_count": 24,
     "metadata": {},
     "output_type": "execute_result"
    }
   ],
   "source": [
    "# GeoDataFrame의 새로운 컬럼에 폴리곤 중심점 값을 할당하기\n",
    "seoul_umd_gdf['centoroid'] = seoul_umd_gdf.centroid\n",
    "seoul_umd_gdf.head()"
   ]
  },
  {
   "cell_type": "code",
   "execution_count": 25,
   "metadata": {},
   "outputs": [
    {
     "data": {
      "text/plain": [
       "'centoroid'"
      ]
     },
     "execution_count": 25,
     "metadata": {},
     "output_type": "execute_result"
    }
   ],
   "source": [
    "seoul_umd_gdf = seoul_umd_gdf.set_geometry('centoroid')\n",
    "seoul_umd_gdf.geometry.name"
   ]
  },
  {
   "cell_type": "code",
   "execution_count": 26,
   "metadata": {},
   "outputs": [
    {
     "data": {
      "text/plain": [
       "<matplotlib.axes._subplots.AxesSubplot at 0x11811b2e8>"
      ]
     },
     "execution_count": 26,
     "metadata": {},
     "output_type": "execute_result"
    },
    {
     "data": {
      "image/png": "[encoded data removed]",
      "text/plain": [
       "<Figure size 432x288 with 1 Axes>"
      ]
     },
     "metadata": {
      "needs_background": "light"
     },
     "output_type": "display_data"
    }
   ],
   "source": [
    "seoul_umd_gdf.plot()"
   ]
  },
  {
   "cell_type": "markdown",
   "metadata": {},
   "source": [
    "##  Writing data"
   ]
  },
  {
   "cell_type": "code",
   "execution_count": 33,
   "metadata": {},
   "outputs": [],
   "source": [
    "# 폴더생성\n",
    "!mkdir ./maps/seoul_umd"
   ]
  },
  {
   "cell_type": "code",
   "execution_count": 29,
   "metadata": {},
   "outputs": [],
   "source": [
    "# 불필요한 컬럼 제거하기\n",
    "columns = ['EMD_CD','EMD_NM','COL_ADM_SE','geom']\n",
    "gdf = gpd.GeoDataFrame(seoul_umd_gdf[columns], geometry='geom')"
   ]
  },
  {
   "cell_type": "code",
   "execution_count": 30,
   "metadata": {},
   "outputs": [
    {
     "data": {
      "text/plain": [
       "geopandas.geodataframe.GeoDataFrame"
      ]
     },
     "execution_count": 30,
     "metadata": {},
     "output_type": "execute_result"
    }
   ],
   "source": [
    "type(gdf)"
   ]
  },
  {
   "cell_type": "code",
   "execution_count": 34,
   "metadata": {},
   "outputs": [],
   "source": [
    "# shp파일로 저장하기\n",
    "# seoul_umd_gdf = seoul_umd_gdf.set_geometry('geom')\n",
    "gdf.to_file('./maps/seoul_umd/seoul_umd.shp')"
   ]
  },
  {
   "cell_type": "code",
   "execution_count": 35,
   "metadata": {},
   "outputs": [],
   "source": [
    "# geojson으로 저장하기\n",
    "gdf.to_file('./maps/seoul_umd.geojson', driver='GeoJSON')"
   ]
  },
  {
   "cell_type": "code",
   "execution_count": null,
   "metadata": {},
   "outputs": [],
   "source": []
  }
 ],
 "metadata": {
  "kernelspec": {
   "display_name": "Python 3",
   "language": "python",
   "name": "python3"
  },
  "language_info": {
   "codemirror_mode": {
    "name": "ipython",
    "version": 3
   },
   "file_extension": ".py",
   "mimetype": "text/x-python",
   "name": "python",
   "nbconvert_exporter": "python",
   "pygments_lexer": "ipython3",
   "version": "3.7.3"
  }
 },
 "nbformat": 4,
 "nbformat_minor": 2
}
