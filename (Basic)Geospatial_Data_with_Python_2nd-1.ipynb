{
 "cells": [
  {
   "cell_type": "markdown",
   "metadata": {},
   "source": [
    "#### Import library"
   ]
  },
  {
   "cell_type": "code",
   "execution_count": null,
   "metadata": {},
   "outputs": [],
   "source": [
    "# 라이브러리 추가하기\n",
    "import geopandas as gpd\n",
    "\n",
    "%matplotlib inline"
   ]
  },
  {
   "cell_type": "markdown",
   "metadata": {},
   "source": [
    "#### 서울시 행정동 goeJson 불러오기\n",
    "* GeoDataframe 생성하기\n",
    "* 데이터 확인하기\n",
    "* plot()으로 지도 확인하기"
   ]
  },
  {
   "cell_type": "code",
   "execution_count": null,
   "metadata": {},
   "outputs": [],
   "source": [
    "# _01 서울시 법정동 geojson 파일\n",
    "_seoul_h_dong = './maps/output/seoul_h_dong.geojson'"
   ]
  },
  {
   "cell_type": "code",
   "execution_count": null,
   "metadata": {},
   "outputs": [],
   "source": [
    "# _02 GeoDataFrame\n",
    "seoul_h_dong_gdf = gpd.read_file(_seoul_h_dong)\n",
    "seoul_h_dong_gdf.info()\n",
    "seoul_h_dong_gdf.head(10)"
   ]
  },
  {
   "cell_type": "code",
   "execution_count": null,
   "metadata": {},
   "outputs": [],
   "source": [
    "# _03 법정동 지도 보기\n",
    "seoul_h_dong_gdf.plot(color='gray')"
   ]
  },
  {
   "attachments": {
    "dissolve.png": {
     "image/png": "[encoded data removed]"
    }
   },
   "cell_type": "markdown",
   "metadata": {},
   "source": [
    "####  Dissolve를 이용해 행정동 -> 시군구 지도 데이터 만들기\n",
    "\n",
    "![dissolve.png](attachment:dissolve.png)"
   ]
  },
  {
   "cell_type": "code",
   "execution_count": null,
   "metadata": {},
   "outputs": [],
   "source": [
    "# _04 Dissolve를 이용해 시군구 데이터 만들기\n",
    "seoul_sgg = seoul_h_dong_gdf.dissolve(by=['SGG_NM','SGG_CODE'], aggfunc='sum')\n",
    "seoul_sgg"
   ]
  },
  {
   "cell_type": "code",
   "execution_count": null,
   "metadata": {},
   "outputs": [],
   "source": [
    "# _05 index 초기화하기\n",
    "seoul_sgg.reset_index(inplace=True)\n",
    "seoul_sgg"
   ]
  },
  {
   "cell_type": "code",
   "execution_count": null,
   "metadata": {},
   "outputs": [],
   "source": [
    "# _06 정보확인\n",
    "seoul_sgg.info()\n",
    "seoul_sgg.head()"
   ]
  },
  {
   "cell_type": "code",
   "execution_count": null,
   "metadata": {},
   "outputs": [],
   "source": [
    "# _07 plot으로 그려보기\n",
    "seoul_sgg.plot()"
   ]
  },
  {
   "cell_type": "code",
   "execution_count": null,
   "metadata": {},
   "outputs": [],
   "source": [
    "# _08 시군구 geojson 생성하기\n",
    "# 불필요한 컬럼 제거하기\n",
    "columns = ['SGG_CODE','SGG_NM','SEDAE','SEDAE_INGU','TOTAL_POP','MALE_POP','FEMALE_POP','65_OVER','geometry']\n",
    "gdf = gpd.GeoDataFrame(seoul_sgg[columns], geometry='geometry')\n",
    "gdf.to_file('./maps/output/seoul_sgg.geojson' , driver='GeoJSON')"
   ]
  },
  {
   "cell_type": "markdown",
   "metadata": {},
   "source": [
    "# 서울시 스타벅스 매장 목록\n",
    "* 서울시 스타벅스 매장 목록 엑셀 파일 불러오기\n",
    "* 위도, 경도 좌표 정보를 이용해 GeoDataFrame으로 변환하기\n",
    "* 서울시 스타벅스 매장 목록 데이터를 지도파일로 저장하기"
   ]
  },
  {
   "cell_type": "code",
   "execution_count": null,
   "metadata": {},
   "outputs": [],
   "source": [
    "# _10 pandas를 이용해 서울시 스타벅스 목록 데이터(엑셀) 불러오기\n",
    "import pandas as pd\n",
    "seoul_starbucks = pd.read_excel('./files/seoul_starbucks.xlsx')\n",
    "seoul_starbucks.info()\n",
    "seoul_starbucks.head()"
   ]
  },
  {
   "cell_type": "code",
   "execution_count": null,
   "metadata": {},
   "outputs": [],
   "source": [
    "# _11 시군구 코드를 문자타입으로 변경하기\n",
    "seoul_starbucks = seoul_starbucks.astype({'SIG_CD':'str'})\n",
    "seoul_starbucks.info()"
   ]
  },
  {
   "cell_type": "code",
   "execution_count": null,
   "metadata": {},
   "outputs": [],
   "source": [
    "# _12 엑셀 파일의 위도 경도 데이터를 Point타압의 geometry 데이터로 변환하기\n",
    "geometry = gpd.points_from_xy(seoul_starbucks.LONG, seoul_starbucks.LAT)\n",
    "geometry[0]"
   ]
  },
  {
   "cell_type": "code",
   "execution_count": null,
   "metadata": {},
   "outputs": [],
   "source": [
    "# _13 GeoDataFrame 생성하기\n",
    "coulumns = ['STORE_NAME', 'STORE_TYPE', 'SIG_CD', 'SIG_KOR_NM']\n",
    "seoul_sb_gdf = gpd.GeoDataFrame(seoul_starbucks[coulumns], geometry=geometry)\n",
    "seoul_sb_gdf.info()\n",
    "seoul_sb_gdf.head()"
   ]
  },
  {
   "cell_type": "code",
   "execution_count": null,
   "metadata": {},
   "outputs": [],
   "source": [
    "# _14 타입 확인\n",
    "type(seoul_sb_gdf)"
   ]
  },
  {
   "cell_type": "code",
   "execution_count": null,
   "metadata": {},
   "outputs": [],
   "source": [
    "# 폴더생성\n",
    "!mkdir ./maps/final"
   ]
  },
  {
   "cell_type": "code",
   "execution_count": null,
   "metadata": {},
   "outputs": [],
   "source": [
    "# _15 서울시 스타벅스 매장 지도 파일 생성하기\n",
    "seoul_sb_gdf.to_file('./maps/final/seoul_starbucks.geojson', driver='GeoJSON')"
   ]
  },
  {
   "cell_type": "code",
   "execution_count": null,
   "metadata": {},
   "outputs": [],
   "source": []
  },
  {
   "cell_type": "code",
   "execution_count": null,
   "metadata": {},
   "outputs": [],
   "source": []
  }
 ],
 "metadata": {
  "kernelspec": {
   "display_name": "Python 3",
   "language": "python",
   "name": "python3"
  },
  "language_info": {
   "codemirror_mode": {
    "name": "ipython",
    "version": 3
   },
   "file_extension": ".py",
   "mimetype": "text/x-python",
   "name": "python",
   "nbconvert_exporter": "python",
   "pygments_lexer": "ipython3",
   "version": "3.7.3"
  }
 },
 "nbformat": 4,
 "nbformat_minor": 2
}
