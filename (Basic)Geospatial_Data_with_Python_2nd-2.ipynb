{
 "cells": [
  {
   "cell_type": "markdown",
   "metadata": {},
   "source": [
    "## 데이터 전처리\n",
    "* 서울시 시군구 데이터의 새로운 컬럼에 스타벅스 개수 세어 저장하기"
   ]
  },
  {
   "cell_type": "code",
   "execution_count": null,
   "metadata": {},
   "outputs": [],
   "source": [
    "# 라이브러리 import \n",
    "import geopandas as gpd\n",
    "import pandas as pd"
   ]
  },
  {
   "cell_type": "code",
   "execution_count": null,
   "metadata": {},
   "outputs": [],
   "source": [
    "# _01 파일 경로 서울시 시군구 통계, 서울시 스타벅스 매장 지도파일\n",
    "_seoul_sgg = './maps/output/seoul_sgg.geojson'\n",
    "_seoul_sb = './maps/final/seoul_starbucks.geojson'"
   ]
  },
  {
   "cell_type": "code",
   "execution_count": null,
   "metadata": {},
   "outputs": [],
   "source": [
    "# _02 서울시 시군구 지도 데이터 불러오기\n",
    "seoul_sgg_gdf = gpd.read_file(_seoul_sgg)\n",
    "seoul_sgg_gdf.info()\n",
    "seoul_sgg_gdf.head()"
   ]
  },
  {
   "cell_type": "code",
   "execution_count": null,
   "metadata": {},
   "outputs": [],
   "source": [
    "# _03 서울시 스타벅스 매장 지도 데이터 불러오기\n",
    "seoul_sb_gdf = gpd.read_file(_seoul_sb)\n",
    "seoul_sb_gdf.info()\n",
    "seoul_sb_gdf.head()"
   ]
  },
  {
   "cell_type": "code",
   "execution_count": null,
   "metadata": {},
   "outputs": [],
   "source": [
    "# _04 pandas를 이용해 서울시 시군구별 스타벅스 매장 개수 세기\n",
    "starbucks_sgg_count = seoul_sb_gdf.pivot_table(\n",
    "    index = 'SIG_CD', \n",
    "    values='SIG_KOR_NM', \n",
    "    aggfunc='count').rename(columns={'SIG_KOR_NM':'COUNT'})\n",
    "\n",
    "starbucks_sgg_count.head()"
   ]
  },
  {
   "cell_type": "code",
   "execution_count": null,
   "metadata": {},
   "outputs": [],
   "source": [
    "# _05 pandas merge를 이용해 서울시 시군구 데이터에 스타벅스 매장 개수 컬럼 병합하기\n",
    "seoul_sgg_final = pd.merge(\n",
    "    seoul_sgg_gdf, \n",
    "    starbucks_sgg_count,\n",
    "    how='left',\n",
    "    left_on='SGG_CODE',\n",
    "    right_on='SIG_CD'\n",
    ")\n",
    "seoul_sgg_final.head()"
   ]
  },
  {
   "cell_type": "code",
   "execution_count": null,
   "metadata": {},
   "outputs": [],
   "source": [
    "type(seoul_sgg_final)"
   ]
  },
  {
   "cell_type": "code",
   "execution_count": null,
   "metadata": {},
   "outputs": [],
   "source": [
    "# _06 서울시 시군구별 통계 지도 데이터 저장하기\n",
    "seoul_sgg_final.to_file('./maps/final/seoul_sgg_stat.geojson', driver='GeoJSON')"
   ]
  },
  {
   "cell_type": "code",
   "execution_count": null,
   "metadata": {},
   "outputs": [],
   "source": []
  }
 ],
 "metadata": {
  "kernelspec": {
   "display_name": "Python 3",
   "language": "python",
   "name": "python3"
  },
  "language_info": {
   "codemirror_mode": {
    "name": "ipython",
    "version": 3
   },
   "file_extension": ".py",
   "mimetype": "text/x-python",
   "name": "python",
   "nbconvert_exporter": "python",
   "pygments_lexer": "ipython3",
   "version": "3.7.3"
  }
 },
 "nbformat": 4,
 "nbformat_minor": 2
}
