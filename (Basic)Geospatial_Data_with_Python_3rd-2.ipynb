{
 "cells": [
  {
   "cell_type": "code",
   "execution_count": null,
   "metadata": {},
   "outputs": [],
   "source": [
    "# !pip3 install folium\n",
    "# !pip3 install folium --upgrade"
   ]
  },
  {
   "cell_type": "code",
   "execution_count": null,
   "metadata": {},
   "outputs": [],
   "source": [
    "import folium"
   ]
  },
  {
   "cell_type": "markdown",
   "metadata": {},
   "source": [
    "## 기본 지도 나타내기\n",
    "\n",
    "#### Folium \n",
    "- https://github.com/python-visualization/folium"
   ]
  },
  {
   "cell_type": "code",
   "execution_count": null,
   "metadata": {},
   "outputs": [],
   "source": [
    "# _01 folium 지도 생성\n",
    "folium.Map(location=[0,0])"
   ]
  },
  {
   "cell_type": "markdown",
   "metadata": {},
   "source": [
    "## 위도와 경도"
   ]
  },
  {
   "cell_type": "code",
   "execution_count": null,
   "metadata": {},
   "outputs": [],
   "source": [
    "# _02 위도, 경도를 입력해 지도의 처음 위치 설정\n",
    "folium.Map(location=[37.573050, 126.979189])"
   ]
  },
  {
   "cell_type": "markdown",
   "metadata": {},
   "source": [
    "## 지도 옵션 변경하기\n",
    "\n",
    "- 지도크기: width, height\n",
    "- zoom level : 0 ~ 18 (default 10)\n",
    "- zoom_start / max_zoom / min_zoom / zoom_control\n",
    "- tiles (default: OpenStreetMap)"
   ]
  },
  {
   "cell_type": "code",
   "execution_count": null,
   "metadata": {},
   "outputs": [],
   "source": [
    "# _03 지도 옵션\n",
    "folium.Map(\n",
    "    location=[37.573050, 126.979189],\n",
    "    width=700, height=500,\n",
    "#     min_zoom=9,\n",
    "#     max_zoom=12,\n",
    "    zoom_start=11,\n",
    "    zoom_control=False\n",
    ")"
   ]
  },
  {
   "cell_type": "markdown",
   "metadata": {},
   "source": [
    "## 타일맵 적용하기"
   ]
  },
  {
   "cell_type": "code",
   "execution_count": null,
   "metadata": {},
   "outputs": [],
   "source": [
    "# _04 Tile Map Test\n",
    "# Default Tile - OpenStreetMap\n",
    "\n",
    "# “OpenStreetMap”\n",
    "# “Mapbox Bright” (Limited levels of zoom for free tiles)\n",
    "# “Mapbox Control Room” (Limited levels of zoom for free tiles)\n",
    "# “Stamen” (Terrain, Toner, and Watercolor)\n",
    "# “Cloudmade” (Must pass API key)\n",
    "# “Mapbox” (Must pass API key)\n",
    "# “CartoDB” (positron and dark_matter)\n",
    "\n",
    "folium.Map(\n",
    "    location=[37.573050, 126.979189],\n",
    "    tiles='Stamen Terrain',\n",
    "    width=700, height=500,\n",
    "    min_zoom=9,\n",
    "    max_zoom=12,\n",
    "    zoom_start=11\n",
    ")"
   ]
  },
  {
   "cell_type": "markdown",
   "metadata": {},
   "source": [
    "## 지도에 Marker 올리기"
   ]
  },
  {
   "cell_type": "code",
   "execution_count": null,
   "metadata": {},
   "outputs": [],
   "source": [
    "# _05 Marker 실습\n",
    "marker_map = folium.Map(\n",
    "    location=[37.573050, 126.979189],\n",
    "    tiles='CartoDB positron',\n",
    "    width=700, height=500,\n",
    "    zoom_start=11\n",
    ")\n",
    "\n",
    "# coustom_icon = folium.features.CustomIcon('./image/icons/general.png', icon_size=(38, 60))\n",
    "\n",
    "# 스타벅스 논현역사거리점\n",
    "folium.Marker(\n",
    "    location=[37.510221, 127.022268], \n",
    "    popup='<h4>강남구</h4>', \n",
    "    tooltip='논현역사거리',\n",
    "    icon=folium.Icon(color='red', icon='info-sign')\n",
    "#     icon=coustom_icon\n",
    ").add_to(marker_map)\n",
    "\n",
    "marker_map"
   ]
  },
  {
   "cell_type": "code",
   "execution_count": null,
   "metadata": {},
   "outputs": [],
   "source": [
    "# _06 서울시 스타벅스 매장 지도 시각화\n",
    "import geopandas as gpd\n",
    "_seoul_sb = './maps/final/seoul_starbucks.geojson'\n",
    "seoul_sgg_stat = gpd.read_file(_seoul_sb)\n",
    "seoul_sgg_stat.info()\n",
    "seoul_sgg_stat.head()"
   ]
  },
  {
   "cell_type": "code",
   "execution_count": null,
   "metadata": {},
   "outputs": [],
   "source": [
    "# _07 GeoDataFrame을 geojson으로 변환하기\n",
    "gjson = seoul_sgg_stat.to_json()\n",
    "gjson"
   ]
  },
  {
   "cell_type": "code",
   "execution_count": null,
   "metadata": {},
   "outputs": [],
   "source": [
    "# _08 Folium지도에 geojson 올려보기\n",
    "viz_map_1 = folium.Map(\n",
    "    location=[37.573050, 126.979189],\n",
    "    tiles='CartoDB positron',\n",
    "    width=700, height=500,\n",
    "    zoom_start=11\n",
    ")\n",
    "\n",
    "folium.GeoJson(gjson).add_to(viz_map_1)\n",
    "viz_map_1"
   ]
  },
  {
   "cell_type": "code",
   "execution_count": null,
   "metadata": {},
   "outputs": [],
   "source": [
    "# _09 스타벅스 매장 타입별로 서클 마커 그려보기\n",
    "viz_map_2 = folium.Map(\n",
    "    location=[37.573050, 126.979189],\n",
    "    tiles='CartoDB positron',\n",
    "    zoom_start=11\n",
    ")\n",
    "\n",
    "for idx in seoul_sgg_stat.index:\n",
    "    # 위도/경도 값 가져오기\n",
    "    point = seoul_sgg_stat.at[idx, 'geometry']\n",
    "    lat = point.y\n",
    "    lng = point.x\n",
    "#     print(point.x)\n",
    "#     print(point.y)\n",
    "    # 스타벅스 매장 타입\n",
    "    store_type = seoul_sgg_stat.at[idx, 'STORE_TYPE']\n",
    "#     print(store_type)\n",
    "    \n",
    "    fillColor = ''\n",
    "    # 매장 타입별로 색상 변경하기\n",
    "    if store_type == 'general':\n",
    "        fillColor = 'green'\n",
    "    elif store_type == 'reserve':\n",
    "        fillColor = 'red'\n",
    "    elif store_type == 'generalDT':\n",
    "        fillColor = 'orange'\n",
    "\n",
    "    folium.CircleMarker(\n",
    "        location=[lat, lng],\n",
    "        color='grey', \n",
    "        fill_color=fillColor, \n",
    "        fill_opacity=1,\n",
    "        weight=0.8,\n",
    "        radius=3\n",
    "    ).add_to(viz_map_2)\n",
    "\n",
    "# folium 지도 실행\n",
    "viz_map_2"
   ]
  },
  {
   "cell_type": "code",
   "execution_count": null,
   "metadata": {},
   "outputs": [],
   "source": [
    "# _10 서울시 시군구 통계 지도 시각화\n",
    "_seoul_sgg = './maps/final/seoul_sgg_stat.geojson'\n",
    "seoul_sgg_stat = gpd.read_file(_seoul_sgg)\n",
    "seoul_sgg_stat.info()\n",
    "seoul_sgg_stat.head()"
   ]
  },
  {
   "cell_type": "code",
   "execution_count": null,
   "metadata": {},
   "outputs": [],
   "source": [
    "# _11 geojson만들기\n",
    "sgg_geojson = seoul_sgg_gdf.to_json()"
   ]
  },
  {
   "cell_type": "code",
   "execution_count": null,
   "metadata": {},
   "outputs": [],
   "source": [
    "# _12 행정경계 지도 그리기\n",
    "def style_function(feature):\n",
    "    return {\n",
    "        'opacity': 0.7,\n",
    "        'weight': 1,\n",
    "        'fillOpacity':0.1,\n",
    "        'color': 'black',\n",
    "        'fillColor': 'yellow',\n",
    "    }\n",
    "\n",
    "viz_map_3 = folium.Map(\n",
    "    location=[37.573050, 126.979189],\n",
    "    tiles='CartoDB positron',\n",
    "    zoom_start=11\n",
    ")\n",
    "\n",
    "folium.GeoJson(\n",
    "    sgg_geojson,\n",
    "    style_function=style_function,\n",
    ").add_to(viz_map_3)\n",
    "\n",
    "# for idx in seoul_sgg_stat.index:\n",
    "#     # 위도/경도 값 가져오기\n",
    "#     point = seoul_sgg_stat.at[idx, 'geometry']\n",
    "#     lat = point.y\n",
    "#     lng = point.x\n",
    "#     # 스타벅스 매장 타입\n",
    "#     store_type = seoul_sgg_stat.at[idx, 'STORE_TYPE']\n",
    "    \n",
    "#     fillColor = ''\n",
    "#     # 매장 타입별로 색상 변경하기\n",
    "#     if store_type == 'general':\n",
    "#         fillColor = 'green'\n",
    "#     elif store_type == 'reserve':\n",
    "#         fillColor = 'red'\n",
    "#     elif store_type == 'generalDT':\n",
    "#         fillColor = 'orange'\n",
    "\n",
    "#     folium.CircleMarker(\n",
    "#         location=[lat, lng],\n",
    "#         color='grey', \n",
    "#         fill_color=fillColor, \n",
    "#         fill_opacity=1,\n",
    "#         weight=0.8,\n",
    "#         radius=3\n",
    "#     ).add_to(viz_map_3)\n",
    "    \n",
    "viz_map_3"
   ]
  },
  {
   "cell_type": "code",
   "execution_count": null,
   "metadata": {},
   "outputs": [],
   "source": [
    "# _13 시군구별 중심점 그려보기\n",
    "seoul_sgg_gdf['centoroid'] = seoul_sgg_gdf.centroid\n",
    "seoul_sgg_gdf.head()"
   ]
  },
  {
   "cell_type": "code",
   "execution_count": null,
   "metadata": {},
   "outputs": [],
   "source": [
    "# _14 통계지도 만들기 (eksr)\n",
    "choropleth_map = folium.Map(\n",
    "    location=[37.573050, 126.979189],\n",
    "    tiles='CartoDB dark_matter',\n",
    "    min_zoom=10,\n",
    "    max_zoom=12,\n",
    "    zoom_start=11\n",
    ")\n",
    "\n",
    "folium.Choropleth(\n",
    "    geo_data=sgg_geojson,\n",
    "    name='choropleth',\n",
    "    data=seoul_sgg_gdf,\n",
    "    columns=['SGG_CODE', 'TOTAL_POP'],\n",
    "    key_on='feature.properties.SGG_CODE',\n",
    "    fill_color='YlGn',\n",
    "    fill_opacity=0.7,\n",
    "    line_opacity=0.2,\n",
    ").add_to(choropleth_map)\n",
    "\n",
    "mean = seoul_sgg_gdf.COUNT.mean()\n",
    "for idx in seoul_sgg_gdf.index:\n",
    "    point = seoul_sgg_gdf.at[idx, 'centoroid']\n",
    "    lat = point.y\n",
    "    lng = point.x\n",
    "    count = seoul_sgg_gdf.at[idx, 'COUNT']\n",
    "    name = seoul_sgg_gdf.at[idx, 'SGG_NM']\n",
    "    \n",
    "    if count == 0:\n",
    "        continue\n",
    "    elif count > mean:\n",
    "        fillColor = '#FF0000'\n",
    "    else:\n",
    "        fillColor = '#CCFF33'\n",
    "    \n",
    "    folium.CircleMarker(\n",
    "        location=[lat, lng], \n",
    "        tooltip=name,\n",
    "        color='#FFFF00', \n",
    "        fill_color=fillColor, \n",
    "        fill_opacity=0.7,\n",
    "        weight=1.5,\n",
    "        radius=count/2\n",
    "    ).add_to(choropleth_map)\n",
    "\n",
    "choropleth_map"
   ]
  },
  {
   "cell_type": "code",
   "execution_count": null,
   "metadata": {},
   "outputs": [],
   "source": []
  },
  {
   "cell_type": "code",
   "execution_count": null,
   "metadata": {},
   "outputs": [],
   "source": []
  }
 ],
 "metadata": {
  "kernelspec": {
   "display_name": "Python 3",
   "language": "python",
   "name": "python3"
  },
  "language_info": {
   "codemirror_mode": {
    "name": "ipython",
    "version": 3
   },
   "file_extension": ".py",
   "mimetype": "text/x-python",
   "name": "python",
   "nbconvert_exporter": "python",
   "pygments_lexer": "ipython3",
   "version": "3.7.3"
  }
 },
 "nbformat": 4,
 "nbformat_minor": 2
}
